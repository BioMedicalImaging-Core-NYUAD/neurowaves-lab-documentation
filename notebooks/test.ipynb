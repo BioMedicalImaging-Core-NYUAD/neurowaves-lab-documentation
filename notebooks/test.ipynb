{
 "cells": [
  {
   "cell_type": "markdown",
   "source": [
    "\n",
    "Simple Visualisation tutorial\n",
    "=============================\n",
    "\n",
    "\n",
    "\n",
    "Author: Eric Larson <larson.eric.d@gmail.com>\n",
    "\n",
    "License: BSD-3-Clause\n",
    "Copyright the MNE-Python contributors."
   ],
   "metadata": {
    "collapsed": false
   }
  },
  {
   "cell_type": "code",
   "execution_count": null,
   "outputs": [],
   "source": [
    "import mne\n",
    "from mne.viz import plot_alignment, set_3d_view\n",
    "\n",
    "print(__doc__)\n",
    "\n",
    "data_path = mne.datasets.sample.data_path()\n",
    "subjects_dir = data_path / \"subjects\"\n",
    "meg_path = data_path / \"MEG\" / \"sample\"\n",
    "trans = mne.read_trans(meg_path / \"sample_audvis_raw-trans.fif\")\n",
    "raw = mne.io.read_raw_fif(meg_path / \"sample_audvis_raw.fif\")\n",
    "\n",
    "# Plot electrode locations on scalp\n",
    "fig = plot_alignment(\n",
    "    raw.info,\n",
    "    trans,\n",
    "    subject=\"sample\",\n",
    "    dig=False,\n",
    "    eeg=[\"original\", \"projected\"],\n",
    "    meg=[],\n",
    "    coord_frame=\"head\",\n",
    "    subjects_dir=subjects_dir,\n",
    ")\n",
    "\n",
    "# Set viewing angle\n",
    "set_3d_view(figure=fig, azimuth=135, elevation=80)"
   ],
   "metadata": {
    "collapsed": false
   }
  }
 ],
 "metadata": {
  "kernelspec": {
   "display_name": "Python 3",
   "language": "python",
   "name": "python3"
  },
  "language_info": {
   "codemirror_mode": {
    "name": "ipython",
    "version": 2
   },
   "file_extension": ".py",
   "mimetype": "text/x-python",
   "name": "python",
   "nbconvert_exporter": "python",
   "pygments_lexer": "ipython2",
   "version": "2.7.6"
  }
 },
 "nbformat": 4,
 "nbformat_minor": 0
}
