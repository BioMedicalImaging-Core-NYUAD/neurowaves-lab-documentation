{
 "cells": [
  {
   "cell_type": "markdown",
   "id": "6a564cc6-c349-49f6-b998-f9967b5a29e4",
   "metadata": {
    "ExecuteTime": {
     "end_time": "2024-06-28T04:49:56.725588Z",
     "start_time": "2024-06-28T04:49:56.723155Z"
    },
    "collapsed": true,
    "jupyter": {
     "outputs_hidden": true
    }
   },
   "source": [
    "OPM oddball analysis with source localization using beamformer\n",
    "==============================================================\n",
    "\n",
    "Lead authors: Hadi Zaatiti hadi.zaatiti@nyu.edu, Osama Abdullah, osama.abdullah@nyu.edu\n",
    "\n",
    "This notebook is to be run in MATLAB, while having fieldtrip library installed.\n",
    "It is a pipeline for processing the `oddball` experiment raw data, run frequency analysis in source space, source localization using Beamformer technique."
   ]
  },
  {
   "cell_type": "markdown",
   "id": "49b3ab30-8a09-443f-9f3f-c4ba399395e6",
   "metadata": {},
   "source": [
    "Importing data and preprocessing\n",
    "--------------------------------"
   ]
  },
  {
   "cell_type": "code",
   "execution_count": null,
   "id": "5316b9e8-7501-4b22-b3ea-cdff729ad6af",
   "metadata": {
    "jupyter": {
     "is_executing": true
    }
   },
   "outputs": [],
   "source": [
    "We will start with importing the raw data and display the header information.\n",
    "The .fif file imported here is the one generated from the OPM system."
   ]
  },
  {
   "cell_type": "code",
   "execution_count": 1,
   "id": "2da26f5a-fde9-4788-95c2-85baa42d51b9",
   "metadata": {
    "ExecuteTime": {
     "end_time": "2024-06-28T04:57:47.515154Z",
     "start_time": "2024-06-28T04:57:47.512285Z"
    }
   },
   "outputs": [
    {
     "name": "stderr",
     "output_type": "stream",
     "text": [
      "Warning: FieldLine data requires a numeric value for coilaccuracy>=0"
     ]
    },
    {
     "name": "stdout",
     "output_type": "stream",
     "text": [
      " In 'C:\\Users\\hz3752\\Documents\\fieldtrip\\fileio\\ft_read_header.m' at line 1930\n",
      " In 'C:\\Users\\hz3752\\Documents\\fieldtrip\\ft_preprocessing.m' at line 392\n",
      "\n"
     ]
    },
    {
     "name": "stderr",
     "output_type": "stream",
     "text": [
      "Warning: No device to head transform available in fif file"
     ]
    },
    {
     "name": "stdout",
     "output_type": "stream",
     "text": [
      " In 'C:\\Users\\hz3752\\Documents\\fieldtrip\\fileio\\private\\mne2grad.m' at line 100\n",
      " In 'C:\\Users\\hz3752\\Documents\\fieldtrip\\fileio\\ft_read_header.m' at line 1941\n",
      " In 'C:\\Users\\hz3752\\Documents\\fieldtrip\\ft_preprocessing.m' at line 392\n",
      "\n"
     ]
    },
    {
     "name": "stderr",
     "output_type": "stream",
     "text": [
      "Warning: MEG channels will likely have coordinates in device frame, not head frame"
     ]
    },
    {
     "name": "stdout",
     "output_type": "stream",
     "text": [
      " In 'C:\\Users\\hz3752\\Documents\\fieldtrip\\fileio\\private\\mne2grad.m' at line 101\n",
      " In 'C:\\Users\\hz3752\\Documents\\fieldtrip\\fileio\\ft_read_header.m' at line 1941\n",
      " In 'C:\\Users\\hz3752\\Documents\\fieldtrip\\ft_preprocessing.m' at line 392\n",
      "\n"
     ]
    },
    {
     "name": "stderr",
     "output_type": "stream",
     "text": [
      "Warning: There does not seem to be a suitable trigger channel."
     ]
    },
    {
     "name": "stdout",
     "output_type": "stream",
     "text": [
      " In 'C:\\Users\\hz3752\\Documents\\fieldtrip\\fileio\\private\\mne2grad.m' at line 214\n",
      " In 'C:\\Users\\hz3752\\Documents\\fieldtrip\\fileio\\ft_read_header.m' at line 1941\n",
      " In 'C:\\Users\\hz3752\\Documents\\fieldtrip\\ft_preprocessing.m' at line 392\n",
      "\n",
      "Opening raw data file C:\\Users\\hz3752\\PycharmProjects\\meg-pipeline\\pipeline\\hadi_code\\oddball_experiment_OPM\\20240524_122045_sub-amalopm2_file-amalopm2_raw.fif...\n",
      "\tRange : 0 ... 1368099  =      0.000 ...   273.620 secs\n",
      "Ready.\n",
      "processing channel { 'L202_bz' 'L302_bz' 'R102_bz' 'L404_bz' 'R103_bz' 'L505_bz' 'L203_bz' 'L606_bz' 'L101_bz' 'L208_bz' 'L204_bz' 'L303_bz' 'R107_bz' 'L405_bz' 'L103_bz' 'L502_bz' 'R104_bz' 'L307_bz' 'R105_bz' 'L403_bz' 'L102_bz' 'L402_bz' 'L104_bz' 'L604_bz' 'R101_bz' 'L304_bz' 'L201_bz' 'L306_bz' 'L205_bz' 'L305_bz' 'di31' 'L105_bz' 'L503_bz' 'R307_bz' 'R205_bz' 'L214_bz' 'R301_bz' 'L111_bz' 'R202_bz' 'L113_bz' 'R402_bz' 'R211_bz' 'R203_bz' 'R408_bz' 'R302_bz' 'R213_bz' 'R206_bz' 'R113_bz' 'R304_bz' 'R210_bz' 'R208_bz' 'R209_bz' 'R204_bz' 'R212_bz' 'R305_bz' 'R409_bz' 'R303_bz' 'R308_bz' 'R207_bz' 'R309_bz' 'R201_bz' 'R407_bz' 'R306_bz' 'R311_bz' 'R401_bz' 'R502_bz' 'R504_bz' 'R605_bz' 'R603_bz' 'R503_bz' 'R405_bz' 'R506_bz' 'R507_bz' 'R403_bz' 'R604_bz' 'R111_bz' 'R606_bz' 'L312_bz' 'R406_bz' 'R505_bz' 'R602_bz' 'L407_bz' 'L310_bz' 'L115_bz' 'L211_bz' 'L210_bz' 'L309_bz' 'R110_bz' 'L311_bz' 'L308_bz' 'L406_bz' 'L212_bz' 'R115_bz' 'L209_bz' 'L408_bz' 'L109_bz' 'L409_bz' 'hpiin175' 'hpiout175' 'hpiin176' 'hpiout176' 'hpiin177' 'hpiout177' 'hpiin178' 'hpiout178' 'hpiin179' 'hpiout179' 'hpiin180' 'hpiout180' }\n",
      "reading and preprocessing\n",
      "Reading 0 ... 1368099  =      0.000 ...   273.620 secs... [done]\n",
      "reading and preprocessing trial 1 from 1\n",
      "the call to \"ft_preprocessing\" took 3 seconds\n"
     ]
    },
    {
     "name": "stderr",
     "output_type": "stream",
     "text": [
      "Warning: FieldLine data requires a numeric value for coilaccuracy>=0"
     ]
    },
    {
     "name": "stdout",
     "output_type": "stream",
     "text": [
      " In 'C:\\Users\\hz3752\\Documents\\fieldtrip\\fileio\\ft_read_header.m' at line 1930\n",
      "\n"
     ]
    },
    {
     "name": "stderr",
     "output_type": "stream",
     "text": [
      "Warning: No device to head transform available in fif file"
     ]
    },
    {
     "name": "stdout",
     "output_type": "stream",
     "text": [
      " In 'C:\\Users\\hz3752\\Documents\\fieldtrip\\fileio\\private\\mne2grad.m' at line 100\n",
      " In 'C:\\Users\\hz3752\\Documents\\fieldtrip\\fileio\\ft_read_header.m' at line 1941\n",
      "\n"
     ]
    },
    {
     "name": "stderr",
     "output_type": "stream",
     "text": [
      "Warning: MEG channels will likely have coordinates in device frame, not head frame"
     ]
    },
    {
     "name": "stdout",
     "output_type": "stream",
     "text": [
      " In 'C:\\Users\\hz3752\\Documents\\fieldtrip\\fileio\\private\\mne2grad.m' at line 101\n",
      " In 'C:\\Users\\hz3752\\Documents\\fieldtrip\\fileio\\ft_read_header.m' at line 1941\n",
      "\n"
     ]
    },
    {
     "name": "stderr",
     "output_type": "stream",
     "text": [
      "Warning: There does not seem to be a suitable trigger channel."
     ]
    },
    {
     "name": "stdout",
     "output_type": "stream",
     "text": [
      " In 'C:\\Users\\hz3752\\Documents\\fieldtrip\\fileio\\private\\mne2grad.m' at line 214\n",
      " In 'C:\\Users\\hz3752\\Documents\\fieldtrip\\fileio\\ft_read_header.m' at line 1941\n",
      "\n",
      "Opening raw data file C:\\Users\\hz3752\\PycharmProjects\\meg-pipeline\\pipeline\\hadi_code\\oddball_experiment_OPM\\20240524_122045_sub-amalopm2_file-amalopm2_raw.fif...\n",
      "\tRange : 0 ... 1368099  =      0.000 ...   273.620 secs\n",
      "Ready.\n"
     ]
    },
    {
     "name": "stderr",
     "output_type": "stream",
     "text": [
      "Warning: There does not seem to be a suitable trigger channel."
     ]
    },
    {
     "name": "stdout",
     "output_type": "stream",
     "text": [
      " In 'C:\\Users\\hz3752\\Documents\\fieldtrip\\fileio\\ft_chantype.m' at line 198\n",
      " In 'C:\\Users\\hz3752\\Documents\\fieldtrip\\fileio\\ft_read_header.m' at line 2837\n",
      "\n",
      "          label: {109x1 cell}\n",
      "         nChans: 109\n",
      "             Fs: 5000\n",
      "           grad: [1x1 struct]\n",
      "       nSamples: 1368100\n",
      "    nSamplesPre: 0\n",
      "        nTrials: 1\n",
      "           orig: [1x1 struct]\n",
      "       chantype: {109x1 cell}\n",
      "       chanunit: {109x1 cell}\n",
      "\n"
     ]
    }
   ],
   "source": [
    "%% Data initialisation\n",
    "\n",
    "% Tutorial reference: https://www.fieldtriptoolbox.org/tutorial/eventrelatedaveraging/\n",
    "\n",
    "cfg                         = [];\n",
    "cfg.dataset                 = 'C:\\Users\\hz3752\\PycharmProjects\\meg-pipeline\\pipeline\\hadi_code\\oddball_experiment_OPM\\20240524_122045_sub-amalopm2_file-amalopm2_raw.fif';\n",
    "\n",
    "\n",
    "data_all = ft_preprocessing(cfg);\n",
    "\n",
    "% Read the header\n",
    "hdr = ft_read_header(cfg.dataset);\n",
    "\n",
    "% Display the header information\n",
    "disp(hdr);\n",
    "\n",
    "\n",
    "% The electrode positions for opm can be found in fieldtripdir/template/grad/fieldlinebeta2.mat\n",
    "% Remind that the positions of the OPM sensor can vary changed on the radial axis of the brain (By pushing OPM sensors in or out)\n",
    "% So, the sensor layout is changed for every participant according to the axial position of the sensors"
   ]
  },
  {
   "cell_type": "markdown",
   "id": "c8ba45d2-b176-4ec8-a11d-4e264c284ad2",
   "metadata": {},
   "source": [
    "Defining trials\n",
    "---------------\n",
    "Remind that in oddball task we had three kind of stimulus, a 500 Hz a high frequency noise, a low frequency 200Hz noise and a white noise.\n",
    "We will read the triggers from the data and plot them. Channel `di31` is the digital stimulus channel on the OPM, it can take any values 0 to 256.\n",
    "The current NYUAD lab setup is limited in number of digital pins to 27 and doesn't use the full 36 of the OPM."
   ]
  },
  {
   "cell_type": "code",
   "execution_count": 3,
   "id": "bc1009f1-32dc-4d1a-90ce-d1dbe0f866f8",
   "metadata": {},
   "outputs": [
    {
     "name": "stderr",
     "output_type": "stream",
     "text": [
      "Warning: FieldLine data requires a numeric value for coilaccuracy>=0"
     ]
    },
    {
     "name": "stdout",
     "output_type": "stream",
     "text": [
      " In 'C:\\Users\\hz3752\\Documents\\fieldtrip\\fileio\\ft_read_header.m' at line 1930\n",
      " In 'C:\\Users\\hz3752\\Documents\\fieldtrip\\ft_preprocessing.m' at line 392\n",
      "\n"
     ]
    },
    {
     "name": "stderr",
     "output_type": "stream",
     "text": [
      "Warning: No device to head transform available in fif file"
     ]
    },
    {
     "name": "stdout",
     "output_type": "stream",
     "text": [
      " In 'C:\\Users\\hz3752\\Documents\\fieldtrip\\fileio\\private\\mne2grad.m' at line 100\n",
      " In 'C:\\Users\\hz3752\\Documents\\fieldtrip\\fileio\\ft_read_header.m' at line 1941\n",
      " In 'C:\\Users\\hz3752\\Documents\\fieldtrip\\ft_preprocessing.m' at line 392\n",
      "\n"
     ]
    },
    {
     "name": "stderr",
     "output_type": "stream",
     "text": [
      "Warning: MEG channels will likely have coordinates in device frame, not head frame"
     ]
    },
    {
     "name": "stdout",
     "output_type": "stream",
     "text": [
      " In 'C:\\Users\\hz3752\\Documents\\fieldtrip\\fileio\\private\\mne2grad.m' at line 101\n",
      " In 'C:\\Users\\hz3752\\Documents\\fieldtrip\\fileio\\ft_read_header.m' at line 1941\n",
      " In 'C:\\Users\\hz3752\\Documents\\fieldtrip\\ft_preprocessing.m' at line 392\n",
      "\n"
     ]
    },
    {
     "name": "stderr",
     "output_type": "stream",
     "text": [
      "Warning: There does not seem to be a suitable trigger channel."
     ]
    },
    {
     "name": "stdout",
     "output_type": "stream",
     "text": [
      " In 'C:\\Users\\hz3752\\Documents\\fieldtrip\\fileio\\private\\mne2grad.m' at line 214\n",
      " In 'C:\\Users\\hz3752\\Documents\\fieldtrip\\fileio\\ft_read_header.m' at line 1941\n",
      " In 'C:\\Users\\hz3752\\Documents\\fieldtrip\\ft_preprocessing.m' at line 392\n",
      "\n",
      "Opening raw data file C:\\Users\\hz3752\\PycharmProjects\\meg-pipeline\\pipeline\\hadi_code\\oddball_experiment_OPM\\20240524_122045_sub-amalopm2_file-amalopm2_raw.fif...\n",
      "\tRange : 0 ... 1368099  =      0.000 ...   273.620 secs\n",
      "Ready.\n",
      "processing channel { 'di31' }\n",
      "reading and preprocessing\n",
      "Reading 0 ... 1368099  =      0.000 ...   273.620 secs... [done]\n",
      "reading and preprocessing trial 1 from 1\n",
      "the call to \"ft_preprocessing\" took 1 seconds\n"
     ]
    },
    {
     "data": {
      "image/png": "[encoded data removed]"
     },
     "execution_count": 3,
     "metadata": {},
     "output_type": "execute_result"
    }
   ],
   "source": [
    "%% Plot the trigger channel\n",
    "\n",
    "cfg = [];\n",
    "cfg.dataset = 'C:\\Users\\hz3752\\PycharmProjects\\meg-pipeline\\pipeline\\hadi_code\\oddball_experiment_OPM\\20240524_122045_sub-amalopm2_file-amalopm2_raw.fif';\n",
    "cfg.channel = 'di31';\n",
    "data=ft_preprocessing(cfg);\n",
    "figure;plot(data.time{1},data.trial{1});"
   ]
  },
  {
   "cell_type": "markdown",
   "id": "ad4b853b-951b-4ac0-bef4-d7a601799509",
   "metadata": {},
   "source": [
    "The following plot is then obtained showing the triggers with respect to time."
   ]
  },
  {
   "attachments": {
    "20dd24b7-f629-4e4d-bc71-eb2fbc4fc9db.png": {
     "image/png": "[encoded data removed]"
    }
   },
   "cell_type": "markdown",
   "id": "f67422bc-0fde-4262-ab38-ffd90aa00733",
   "metadata": {},
   "source": [
    "![image.png](attachment:20dd24b7-f629-4e4d-bc71-eb2fbc4fc9db.png)"
   ]
  },
  {
   "cell_type": "markdown",
   "id": "db1cff68-2307-4d3d-ad14-fd7389e60229",
   "metadata": {},
   "source": [
    "We will now define the trials, which are segments of data whose time is within a range `prestim` and `poststim` around the time when the stimulus is presented.\n",
    "A `demean` is applied, which substracts the mean values of the data during the baseline window time defined in `baselinewindow`\n",
    "A `detrend` is applied when a low frequency noise is carrying the signal up or down.\n",
    "The `lpfilter` is commented but could be used if needed. Remind that any additional filter removes a part of the data, avoid using filters unless justified."
   ]
  },
  {
   "cell_type": "code",
   "execution_count": 4,
   "id": "6040bde4-a44b-48f6-a909-364d3c2bf124",
   "metadata": {},
   "outputs": [
    {
     "name": "stdout",
     "output_type": "stream",
     "text": [
      "evaluating trial function 'ft_trialfun_general'\n",
      "reading the header from 'C:\\Users\\hz3752\\PycharmProjects\\meg-pipeline\\pipeline\\hadi_code\\oddball_experiment_OPM\\20240524_122045_sub-amalopm2_file-amalopm2_raw.fif'\n"
     ]
    },
    {
     "name": "stderr",
     "output_type": "stream",
     "text": [
      "Warning: FieldLine data requires a numeric value for coilaccuracy>=0"
     ]
    },
    {
     "name": "stdout",
     "output_type": "stream",
     "text": [
      " In 'C:\\Users\\hz3752\\Documents\\fieldtrip\\fileio\\ft_read_header.m' at line 1930\n",
      " In 'C:\\Users\\hz3752\\Documents\\fieldtrip\\trialfun\\ft_trialfun_general.m' at line 108\n",
      " In 'C:\\Users\\hz3752\\Documents\\fieldtrip\\ft_definetrial.m' at line 198\n",
      "\n"
     ]
    },
    {
     "name": "stderr",
     "output_type": "stream",
     "text": [
      "Warning: No device to head transform available in fif file"
     ]
    },
    {
     "name": "stdout",
     "output_type": "stream",
     "text": [
      " In 'C:\\Users\\hz3752\\Documents\\fieldtrip\\fileio\\private\\mne2grad.m' at line 100\n",
      " In 'C:\\Users\\hz3752\\Documents\\fieldtrip\\fileio\\ft_read_header.m' at line 1941\n",
      " In 'C:\\Users\\hz3752\\Documents\\fieldtrip\\trialfun\\ft_trialfun_general.m' at line 108\n",
      " In 'C:\\Users\\hz3752\\Documents\\fieldtrip\\ft_definetrial.m' at line 198\n",
      "\n"
     ]
    },
    {
     "name": "stderr",
     "output_type": "stream",
     "text": [
      "Warning: MEG channels will likely have coordinates in device frame, not head frame"
     ]
    },
    {
     "name": "stdout",
     "output_type": "stream",
     "text": [
      " In 'C:\\Users\\hz3752\\Documents\\fieldtrip\\fileio\\private\\mne2grad.m' at line 101\n",
      " In 'C:\\Users\\hz3752\\Documents\\fieldtrip\\fileio\\ft_read_header.m' at line 1941\n",
      " In 'C:\\Users\\hz3752\\Documents\\fieldtrip\\trialfun\\ft_trialfun_general.m' at line 108\n",
      " In 'C:\\Users\\hz3752\\Documents\\fieldtrip\\ft_definetrial.m' at line 198\n",
      "\n"
     ]
    },
    {
     "name": "stderr",
     "output_type": "stream",
     "text": [
      "Warning: There does not seem to be a suitable trigger channel."
     ]
    },
    {
     "name": "stdout",
     "output_type": "stream",
     "text": [
      " In 'C:\\Users\\hz3752\\Documents\\fieldtrip\\fileio\\private\\mne2grad.m' at line 214\n",
      " In 'C:\\Users\\hz3752\\Documents\\fieldtrip\\fileio\\ft_read_header.m' at line 1941\n",
      " In 'C:\\Users\\hz3752\\Documents\\fieldtrip\\trialfun\\ft_trialfun_general.m' at line 108\n",
      " In 'C:\\Users\\hz3752\\Documents\\fieldtrip\\ft_definetrial.m' at line 198\n",
      "\n",
      "Opening raw data file C:\\Users\\hz3752\\PycharmProjects\\meg-pipeline\\pipeline\\hadi_code\\oddball_experiment_OPM\\20240524_122045_sub-amalopm2_file-amalopm2_raw.fif...\n",
      "\tRange : 0 ... 1368099  =      0.000 ...   273.620 secs\n",
      "Ready.\n"
     ]
    },
    {
     "name": "stderr",
     "output_type": "stream",
     "text": [
      "Warning: There does not seem to be a suitable trigger channel."
     ]
    },
    {
     "name": "stdout",
     "output_type": "stream",
     "text": [
      " In 'C:\\Users\\hz3752\\Documents\\fieldtrip\\fileio\\ft_chantype.m' at line 198\n",
      " In 'C:\\Users\\hz3752\\Documents\\fieldtrip\\fileio\\ft_read_header.m' at line 2837\n",
      " In 'C:\\Users\\hz3752\\Documents\\fieldtrip\\trialfun\\ft_trialfun_general.m' at line 108\n",
      " In 'C:\\Users\\hz3752\\Documents\\fieldtrip\\ft_definetrial.m' at line 198\n",
      "\n",
      "reading the events from 'C:\\Users\\hz3752\\PycharmProjects\\meg-pipeline\\pipeline\\hadi_code\\oddball_experiment_OPM\\20240524_122045_sub-amalopm2_file-amalopm2_raw.fif'\n"
     ]
    },
    {
     "name": "stderr",
     "output_type": "stream",
     "text": [
      "Warning: FieldLine data requires a numeric value for coilaccuracy>=0"
     ]
    },
    {
     "name": "stdout",
     "output_type": "stream",
     "text": [
      " In 'C:\\Users\\hz3752\\Documents\\fieldtrip\\fileio\\ft_read_header.m' at line 1930\n",
      " In 'C:\\Users\\hz3752\\Documents\\fieldtrip\\fileio\\ft_read_event.m' at line 1685\n",
      " In 'C:\\Users\\hz3752\\Documents\\fieldtrip\\trialfun\\ft_trialfun_general.m' at line 117\n",
      " In 'C:\\Users\\hz3752\\Documents\\fieldtrip\\ft_definetrial.m' at line 198\n",
      "\n"
     ]
    },
    {
     "name": "stderr",
     "output_type": "stream",
     "text": [
      "Warning: No device to head transform available in fif file"
     ]
    },
    {
     "name": "stdout",
     "output_type": "stream",
     "text": [
      " In 'C:\\Users\\hz3752\\Documents\\fieldtrip\\fileio\\private\\mne2grad.m' at line 100\n",
      " In 'C:\\Users\\hz3752\\Documents\\fieldtrip\\fileio\\ft_read_header.m' at line 1941\n",
      " In 'C:\\Users\\hz3752\\Documents\\fieldtrip\\fileio\\ft_read_event.m' at line 1685\n",
      " In 'C:\\Users\\hz3752\\Documents\\fieldtrip\\trialfun\\ft_trialfun_general.m' at line 117\n",
      " In 'C:\\Users\\hz3752\\Documents\\fieldtrip\\ft_definetrial.m' at line 198\n",
      "\n"
     ]
    },
    {
     "name": "stderr",
     "output_type": "stream",
     "text": [
      "Warning: MEG channels will likely have coordinates in device frame, not head frame"
     ]
    },
    {
     "name": "stdout",
     "output_type": "stream",
     "text": [
      " In 'C:\\Users\\hz3752\\Documents\\fieldtrip\\fileio\\private\\mne2grad.m' at line 101\n",
      " In 'C:\\Users\\hz3752\\Documents\\fieldtrip\\fileio\\ft_read_header.m' at line 1941\n",
      " In 'C:\\Users\\hz3752\\Documents\\fieldtrip\\fileio\\ft_read_event.m' at line 1685\n",
      " In 'C:\\Users\\hz3752\\Documents\\fieldtrip\\trialfun\\ft_trialfun_general.m' at line 117\n",
      " In 'C:\\Users\\hz3752\\Documents\\fieldtrip\\ft_definetrial.m' at line 198\n",
      "\n"
     ]
    },
    {
     "name": "stderr",
     "output_type": "stream",
     "text": [
      "Warning: There does not seem to be a suitable trigger channel."
     ]
    },
    {
     "name": "stdout",
     "output_type": "stream",
     "text": [
      " In 'C:\\Users\\hz3752\\Documents\\fieldtrip\\fileio\\private\\mne2grad.m' at line 214\n",
      " In 'C:\\Users\\hz3752\\Documents\\fieldtrip\\fileio\\ft_read_header.m' at line 1941\n",
      " In 'C:\\Users\\hz3752\\Documents\\fieldtrip\\fileio\\ft_read_event.m' at line 1685\n",
      " In 'C:\\Users\\hz3752\\Documents\\fieldtrip\\trialfun\\ft_trialfun_general.m' at line 117\n",
      " In 'C:\\Users\\hz3752\\Documents\\fieldtrip\\ft_definetrial.m' at line 198\n",
      "\n",
      "Opening raw data file C:\\Users\\hz3752\\PycharmProjects\\meg-pipeline\\pipeline\\hadi_code\\oddball_experiment_OPM\\20240524_122045_sub-amalopm2_file-amalopm2_raw.fif...\n",
      "\tRange : 0 ... 1368099  =      0.000 ...   273.620 secs\n",
      "Ready.\n",
      "Reading 0 ... 1368099  =      0.000 ...   273.620 secs... [done]\n",
      "found 80 events\n",
      "created 80 trials\n",
      "the call to \"ft_definetrial\" took 1 seconds\n"
     ]
    },
    {
     "name": "stderr",
     "output_type": "stream",
     "text": [
      "Warning: FieldLine data requires a numeric value for coilaccuracy>=0"
     ]
    },
    {
     "name": "stdout",
     "output_type": "stream",
     "text": [
      " In 'C:\\Users\\hz3752\\Documents\\fieldtrip\\fileio\\ft_read_header.m' at line 1930\n",
      " In 'C:\\Users\\hz3752\\Documents\\fieldtrip\\ft_preprocessing.m' at line 392\n",
      "\n"
     ]
    },
    {
     "name": "stderr",
     "output_type": "stream",
     "text": [
      "Warning: No device to head transform available in fif file"
     ]
    },
    {
     "name": "stdout",
     "output_type": "stream",
     "text": [
      " In 'C:\\Users\\hz3752\\Documents\\fieldtrip\\fileio\\private\\mne2grad.m' at line 100\n",
      " In 'C:\\Users\\hz3752\\Documents\\fieldtrip\\fileio\\ft_read_header.m' at line 1941\n",
      " In 'C:\\Users\\hz3752\\Documents\\fieldtrip\\ft_preprocessing.m' at line 392\n",
      "\n"
     ]
    },
    {
     "name": "stderr",
     "output_type": "stream",
     "text": [
      "Warning: MEG channels will likely have coordinates in device frame, not head frame"
     ]
    },
    {
     "name": "stdout",
     "output_type": "stream",
     "text": [
      " In 'C:\\Users\\hz3752\\Documents\\fieldtrip\\fileio\\private\\mne2grad.m' at line 101\n",
      " In 'C:\\Users\\hz3752\\Documents\\fieldtrip\\fileio\\ft_read_header.m' at line 1941\n",
      " In 'C:\\Users\\hz3752\\Documents\\fieldtrip\\ft_preprocessing.m' at line 392\n",
      "\n"
     ]
    },
    {
     "name": "stderr",
     "output_type": "stream",
     "text": [
      "Warning: There does not seem to be a suitable trigger channel."
     ]
    },
    {
     "name": "stdout",
     "output_type": "stream",
     "text": [
      " In 'C:\\Users\\hz3752\\Documents\\fieldtrip\\fileio\\private\\mne2grad.m' at line 214\n",
      " In 'C:\\Users\\hz3752\\Documents\\fieldtrip\\fileio\\ft_read_header.m' at line 1941\n",
      " In 'C:\\Users\\hz3752\\Documents\\fieldtrip\\ft_preprocessing.m' at line 392\n",
      "\n",
      "Opening raw data file C:\\Users\\hz3752\\PycharmProjects\\meg-pipeline\\pipeline\\hadi_code\\oddball_experiment_OPM\\20240524_122045_sub-amalopm2_file-amalopm2_raw.fif...\n",
      "\tRange : 0 ... 1368099  =      0.000 ...   273.620 secs\n",
      "Ready.\n"
     ]
    },
    {
     "name": "stderr",
     "output_type": "stream",
     "text": [
      "Warning: There does not seem to be a suitable trigger channel."
     ]
    },
    {
     "name": "stdout",
     "output_type": "stream",
     "text": [
      " In 'C:\\Users\\hz3752\\Documents\\fieldtrip\\fileio\\ft_chantype.m' at line 198\n",
      " In 'C:\\Users\\hz3752\\Documents\\fieldtrip\\fileio\\ft_read_header.m' at line 2837\n",
      " In 'C:\\Users\\hz3752\\Documents\\fieldtrip\\ft_preprocessing.m' at line 392\n",
      "\n",
      "processing channel { 'L202_bz' 'L302_bz' 'R102_bz' 'L404_bz' 'R103_bz' 'L505_bz' 'L203_bz' 'L606_bz' 'L101_bz' 'L208_bz' 'L204_bz' 'L303_bz' 'R107_bz' 'L405_bz' 'L103_bz' 'L502_bz' 'R104_bz' 'L307_bz' 'R105_bz' 'L403_bz' 'L102_bz' 'L402_bz' 'L104_bz' 'L604_bz' 'R101_bz' 'L304_bz' 'L201_bz' 'L306_bz' 'L205_bz' 'L305_bz' 'di31' 'L105_bz' 'L503_bz' 'R307_bz' 'R205_bz' 'L214_bz' 'R301_bz' 'L111_bz' 'R202_bz' 'L113_bz' 'R402_bz' 'R211_bz' 'R203_bz' 'R408_bz' 'R302_bz' 'R213_bz' 'R206_bz' 'R113_bz' 'R304_bz' 'R210_bz' 'R208_bz' 'R209_bz' 'R204_bz' 'R212_bz' 'R305_bz' 'R409_bz' 'R303_bz' 'R308_bz' 'R207_bz' 'R309_bz' 'R201_bz' 'R407_bz' 'R306_bz' 'R311_bz' 'R401_bz' 'R502_bz' 'R504_bz' 'R605_bz' 'R603_bz' 'R503_bz' 'R405_bz' 'R506_bz' 'R507_bz' 'R403_bz' 'R604_bz' 'R111_bz' 'R606_bz' 'L312_bz' 'R406_bz' 'R505_bz' 'R602_bz' 'L407_bz' 'L310_bz' 'L115_bz' 'L211_bz' 'L210_bz' 'L309_bz' 'R110_bz' 'L311_bz' 'L308_bz' 'L406_bz' 'L212_bz' 'R115_bz' 'L209_bz' 'L408_bz' 'L109_bz' 'L409_bz' 'hpiin175' 'hpiout175' 'hpiin176' 'hpiout176' 'hpiin177' 'hpiout177' 'hpiin178' 'hpiout178' 'hpiin179' 'hpiout179' 'hpiin180' 'hpiout180' }\n",
      "reading and preprocessing\n",
      "Reading 30816 ... 39315  =      6.163 ...     7.863 secs... [done]\n",
      "Reading 48418 ... 56917  =      9.684 ...    11.383 secs... [done]\n",
      "reading and preprocessing trial 3 from 80Reading 66066 ... 74565  =     13.213 ...    14.913 secs... [done]\n",
      "Reading 82163 ... 90662  =     16.433 ...    18.132 secs... [done]\n",
      "Reading 98257 ... 106756  =     19.651 ...    21.351 secs... [done]\n",
      "\breading and preprocessing trial 6 from 80Reading 115874 ... 124373  =     23.175 ...    24.875 secs... [done]\n",
      "Reading 133464 ... 141963  =     26.693 ...    28.393 secs... [done]\n",
      "Reading 151071 ... 159570  =     30.214 ...    31.914 secs... [done]\n",
      "\breading and preprocessing trial 9 from 80Reading 168652 ... 177151  =     33.730 ...    35.430 secs... [done]\n",
      "Reading 185259 ... 193758  =     37.052 ...    38.752 secs... [done]\n",
      "Reading 200871 ... 209370  =     40.174 ...    41.874 secs... [done]\n",
      "\breading and preprocessing trial 12 from 80Reading 217465 ... 225964  =     43.493 ...    45.193 secs... [done]\n",
      "Reading 232564 ... 241063  =     46.513 ...    48.213 secs... [done]\n",
      "Reading 248149 ... 256648  =     49.630 ...    51.330 secs... [done]\n",
      "reading and preprocessing trial 15 from 80Reading 264269 ... 272768  =     52.854 ...    54.554 secs... [done]\n",
      "Reading 280869 ... 289368  =     56.174 ...    57.874 secs... [done]\n",
      "Reading 295949 ... 304448  =     59.190 ...    60.890 secs... [done]\n",
      "reading and preprocessing trial 18 from 80Reading 312065 ... 320564  =     62.413 ...    64.113 secs... [done]\n",
      "Reading 327664 ... 336163  =     65.533 ...    67.233 secs... [done]\n",
      "Reading 345263 ... 353762  =     69.053 ...    70.752 secs... [done]\n",
      "reading and preprocessing trial 21 from 80Reading 361364 ... 369863  =     72.273 ...    73.973 secs... [done]\n",
      "Reading 378460 ... 386959  =     75.692 ...    77.392 secs... [done]\n",
      "Reading 393554 ... 402053  =     78.711 ...    80.411 secs... [done]\n",
      "reading and preprocessing trial 24 from 80Reading 409153 ... 417652  =     81.831 ...    83.530 secs... [done]\n",
      "Reading 425774 ... 434273  =     85.155 ...    86.855 secs... [done]\n",
      "Reading 440863 ... 449362  =     88.173 ...    89.872 secs... [done]\n",
      "reading and preprocessing trial 27 from 80Reading 456966 ... 465465  =     91.393 ...    93.093 secs... [done]\n",
      "Reading 474558 ... 483057  =     94.912 ...    96.611 secs... [done]\n",
      "Reading 489659 ... 498158  =     97.932 ...    99.632 secs... [done]\n",
      "reading and preprocessing trial 30 from 80Reading 505279 ... 513778  =    101.056 ...   102.756 secs... [done]\n",
      "Reading 521407 ... 529906  =    104.281 ...   105.981 secs... [done]\n",
      "Reading 538512 ... 547011  =    107.702 ...   109.402 secs... [done]\n",
      "reading and preprocessing trial 33 from 80Reading 555117 ... 563616  =    111.023 ...   112.723 secs... [done]\n",
      "Reading 570729 ... 579228  =    114.146 ...   115.846 secs... [done]\n",
      "Reading 585815 ... 594314  =    117.163 ...   118.863 secs... [done]\n",
      "reading and preprocessing trial 36 from 80Reading 601423 ... 609922  =    120.285 ...   121.984 secs... [done]\n",
      "Reading 617515 ... 626014  =    123.503 ...   125.203 secs... [done]\n",
      "Reading 632623 ... 641122  =    126.525 ...   128.224 secs... [done]\n",
      "reading and preprocessing trial 39 from 80Reading 650216 ... 658715  =    130.043 ...   131.743 secs... [done]\n",
      "Reading 665311 ... 673810  =    133.062 ...   134.762 secs... [done]\n",
      "Reading 681906 ... 690405  =    136.381 ...   138.081 secs... [done]\n",
      "reading and preprocessing trial 42 from 80Reading 699020 ... 707519  =    139.804 ...   141.504 secs... [done]\n",
      "Reading 715129 ... 723628  =    143.026 ...   144.726 secs... [done]\n",
      "Reading 731724 ... 740223  =    146.345 ...   148.045 secs... [done]\n",
      "reading and preprocessing trial 45 from 80Reading 748307 ... 756806  =    149.661 ...   151.361 secs... [done]\n",
      "Reading 764911 ... 773410  =    152.982 ...   154.682 secs... [done]\n",
      "Reading 780033 ... 788532  =    156.007 ...   157.706 secs... [done]\n",
      "reading and preprocessing trial 48 from 80Reading 796162 ... 804661  =    159.232 ...   160.932 secs... [done]\n",
      "Reading 813272 ... 821771  =    162.654 ...   164.354 secs... [done]\n",
      "Reading 830883 ... 839382  =    166.177 ...   167.876 secs... [done]\n",
      "reading and preprocessing trial 51 from 80Reading 846519 ... 855018  =    169.304 ...   171.004 secs... [done]\n",
      "Reading 863135 ... 871634  =    172.627 ...   174.327 secs... [done]\n",
      "Reading 880226 ... 888725  =    176.045 ...   177.745 secs... [done]\n",
      "reading and preprocessing trial 54 from 80Reading 896828 ... 905327  =    179.366 ...   181.065 secs... [done]\n",
      "Reading 911926 ... 920425  =    182.385 ...   184.085 secs... [done]\n",
      "Reading 928525 ... 937024  =    185.705 ...   187.405 secs... [done]\n",
      "reading and preprocessing trial 57 from 80Reading 944126 ... 952625  =    188.825 ...   190.525 secs... [done]\n",
      "Reading 960225 ... 968724  =    192.045 ...   193.745 secs... [done]\n",
      "Reading 976332 ... 984831  =    195.266 ...   196.966 secs... [done]\n",
      "reading and preprocessing trial 60 from 80Reading 991420 ... 999919  =    198.284 ...   199.984 secs... [done]\n",
      "Reading 1008525 ... 1017024  =    201.705 ...   203.405 secs... [done]\n",
      "Reading 1024129 ... 1032628  =    204.826 ...   206.526 secs... [done]\n",
      "reading and preprocessing trial 63 from 80Reading 1041234 ... 1049733  =    208.247 ...   209.947 secs... [done]\n",
      "Reading 1056320 ... 1064819  =    211.264 ...   212.964 secs... [done]\n",
      "Reading 1073916 ... 1082415  =    214.783 ...   216.483 secs... [done]\n",
      "reading and preprocessing trial 66 from 80Reading 1091509 ... 1100008  =    218.302 ...   220.002 secs... [done]\n",
      "Reading 1108110 ... 1116609  =    221.622 ...   223.322 secs... [done]\n",
      "Reading 1124711 ... 1133210  =    224.942 ...   226.642 secs... [done]\n",
      "reading and preprocessing trial 69 from 80Reading 1140323 ... 1148822  =    228.065 ...   229.764 secs... [done]\n",
      "Reading 1155416 ... 1163915  =    231.083 ...   232.783 secs... [done]\n",
      "Reading 1172014 ... 1180513  =    234.403 ...   236.103 secs... [done]\n",
      "reading and preprocessing trial 72 from 80Reading 1187611 ... 1196110  =    237.522 ...   239.222 secs... [done]\n",
      "Reading 1203232 ... 1211731  =    240.646 ...   242.346 secs... [done]\n",
      "Reading 1220322 ... 1228821  =    244.064 ...   245.764 secs... [done]\n",
      "reading and preprocessing trial 75 from 80Reading 1236929 ... 1245428  =    247.386 ...   249.086 secs... [done]\n",
      "Reading 1254535 ... 1263034  =    250.907 ...   252.607 secs... [done]\n",
      "Reading 1270176 ... 1278675  =    254.035 ...   255.735 secs... [done]\n",
      "reading and preprocessing trial 78 from 80Reading 1287789 ... 1296288  =    257.558 ...   259.258 secs... [done]\n",
      "Reading 1303389 ... 1311888  =    260.678 ...   262.378 secs... [done]\n",
      "Reading 1319020 ... 1327519  =    263.804 ...   265.504 secs... [done]\n",
      "reading and preprocessing trial 80 from 80\n",
      "the call to \"ft_preprocessing\" took 4 seconds\n"
     ]
    }
   ],
   "source": [
    "%% Defining Trials\n",
    "\n",
    "%value = 1 is the 500 Hz audio\n",
    "%value = 2 is the white noise\n",
    "%value = 3 is the 200 Hz audio\n",
    "\n",
    "cfg = [];\n",
    "cfg.dataset                 = 'C:\\Users\\hz3752\\PycharmProjects\\meg-pipeline\\pipeline\\hadi_code\\oddball_experiment_OPM\\20240524_122045_sub-amalopm2_file-amalopm2_raw.fif';\n",
    "cfg.trialfun = 'ft_trialfun_general'; % this is the default\n",
    "cfg.trialdef.eventtype = 'di31';  % Specify the trigger channel\n",
    "cfg.trialdef.eventvalue = [1, 2, 3];  % Define the value of the trigger\n",
    "cfg.demean     = 'yes';\n",
    "cfg.detrend = 'yes';\n",
    "cfg.baselinewindow = [-0.2 0];\n",
    "%cfg.lpfilter   = 'yes';                              % apply lowpass filter\n",
    "%cfg.lpfreq     = 35;                                 % lowpass at 35 Hz.\n",
    "cfg.trialdef.prestim        = 0.5; % in seconds\n",
    "cfg.trialdef.poststim       = 1.2; % in seconds\n",
    "\n",
    "cfg = ft_definetrial(cfg);\n",
    "\n",
    "data = ft_preprocessing(cfg);"
   ]
  },
  {
   "cell_type": "code",
   "execution_count": null,
   "id": "9328a75c-acf4-422d-bfea-2c1b8153b855",
   "metadata": {},
   "outputs": [],
   "source": [
    "Display the trials and visually inspect them."
   ]
  },
  {
   "cell_type": "code",
   "execution_count": 5,
   "id": "5941a904-02ef-4323-8a65-e3392832c2fa",
   "metadata": {},
   "outputs": [
    {
     "name": "stderr",
     "output_type": "stream",
     "text": [
      "Warning: The field cfg.detrend is deprecated, please use cfg.preproc.detrend\n"
     ]
    },
    {
     "name": "stdout",
     "output_type": "stream",
     "text": [
      " In 'C:\\Users\\hz3752\\Documents\\fieldtrip\\utilities\\ft_checkconfig.m' at line 583\n",
      " In 'C:\\Users\\hz3752\\Documents\\fieldtrip\\ft_databrowser.m' at line 183\n",
      "\n"
     ]
    },
    {
     "name": "stderr",
     "output_type": "stream",
     "text": [
      "Warning: The field cfg.demean is deprecated, please use cfg.preproc.demean\n"
     ]
    },
    {
     "name": "stdout",
     "output_type": "stream",
     "text": [
      " In 'C:\\Users\\hz3752\\Documents\\fieldtrip\\utilities\\ft_checkconfig.m' at line 583\n",
      " In 'C:\\Users\\hz3752\\Documents\\fieldtrip\\ft_databrowser.m' at line 183\n",
      "\n"
     ]
    },
    {
     "name": "stderr",
     "output_type": "stream",
     "text": [
      "Warning: The field cfg.baselinewindow is deprecated, please use cfg.preproc.baselinewindow\n"
     ]
    },
    {
     "name": "stdout",
     "output_type": "stream",
     "text": [
      " In 'C:\\Users\\hz3752\\Documents\\fieldtrip\\utilities\\ft_checkconfig.m' at line 583\n",
      " In 'C:\\Users\\hz3752\\Documents\\fieldtrip\\ft_databrowser.m' at line 183\n",
      "\n",
      "the input is raw data with 109 channels and 80 trials\n"
     ]
    },
    {
     "name": "stderr",
     "output_type": "stream",
     "text": [
      "Warning: Original data has trialinfo, using user-specified trialinfo instead"
     ]
    },
    {
     "name": "stdout",
     "output_type": "stream",
     "text": [
      " In 'C:\\Users\\hz3752\\Documents\\fieldtrip\\ft_redefinetrial.m' at line 268\n",
      " In 'C:\\Users\\hz3752\\Documents\\fieldtrip\\ft_databrowser.m' at line 336\n",
      "\n",
      "the call to \"ft_redefinetrial\" took 1 seconds\n",
      "the input is raw data with 109 channels and 80 trials\n",
      "detected   0 visual artifacts\n",
      "the different artifact types correspond to the following colors:\n",
      "  visual = pink\n",
      "the different event types correspond to the following colors:\n",
      "  di31 = black\n"
     ]
    },
    {
     "name": "stderr",
     "output_type": "stream",
     "text": [
      "Warning: adding C:\\Users\\hz3752\\Documents\\fieldtrip\\external\\brewermap toolbox to your MATLAB pathWarning: adding C:\\Users\\hz3752\\Documents\\fieldtrip\\external\\matplotlib toolbox to your MATLAB pathWarning: adding C:\\Users\\hz3752\\Documents\\fieldtrip\\external\\cmocean toolbox to your MATLAB pathWarning: adding C:\\Users\\hz3752\\Documents\\fieldtrip\\external\\colorcet toolbox to your MATLAB path"
     ]
    },
    {
     "name": "stdout",
     "output_type": "stream",
     "text": [
      "------------------------------------------------------------------------------------\n",
      "You can use the following keyboard buttons in the databrowser\n",
      "1-9                : select artifact type 1-9\n",
      "shift 1-9          : select previous artifact of type 1-9 (does not work with numpad)\n",
      "alt 1-9            : select next artifact of type 1-9\n",
      "arrow-left         : previous trial\n",
      "arrow-right        : next trial\n",
      "shift arrow-up     : increase vertical scaling\n",
      "shift arrow-down   : decrease vertical scaling\n",
      "shift arrow-left   : increase horizontal scaling\n",
      "shift arrow-down   : decrease horizontal scaling\n",
      "t                  : open trial or segment selection dialog\n",
      "c                  : open channel selection dialog\n",
      "h                  : open horizontal scaling dialog\n",
      "v                  : open vertical scaling dialog\n",
      "p                  : open preproc editor\n",
      "i                  : identify a specific channel\n",
      "m                  : toggles between cfg.viewmode options\n",
      "s                  : toggles between cfg.selectmode options\n",
      "q                  : quit\n",
      "------------------------------------------------------------------------------------\n",
      "\n",
      "the call to \"ft_databrowser\" took 77 seconds\n"
     ]
    }
   ],
   "source": [
    "%% Visualise trials\n",
    "\n",
    "cfg = ft_databrowser(cfg, data);"
   ]
  },
  {
   "cell_type": "code",
   "execution_count": null,
   "id": "1e199edd-9569-4d7e-9942-91e283f63ee0",
   "metadata": {},
   "outputs": [],
   "source": [
    "There is three types of trials, we have now to group them separately according to the type of stimulus."
   ]
  },
  {
   "cell_type": "code",
   "execution_count": 6,
   "id": "e7a040e5-a578-4926-9357-db1f13297358",
   "metadata": {},
   "outputs": [
    {
     "name": "stdout",
     "output_type": "stream",
     "text": [
      "the input is raw data with 109 channels and 80 trials\n",
      "selecting 60 trials\n",
      "the call to \"ft_selectdata\" took 0 seconds\n",
      "the call to \"ft_redefinetrial\" took 0 seconds\n"
     ]
    }
   ],
   "source": [
    "%% Filter trials on specific type (1)\n",
    "\n",
    "cfg = [];\n",
    "cfg.trials = data.trialinfo == 1;\n",
    "dataLF = ft_redefinetrial(cfg, data);\n",
    "\n",
    "save dataLF dataLF"
   ]
  },
  {
   "cell_type": "code",
   "execution_count": 7,
   "id": "cd75af2d-5ed9-4c19-90b6-a1f01688257c",
   "metadata": {},
   "outputs": [
    {
     "name": "stdout",
     "output_type": "stream",
     "text": [
      "the input is raw data with 109 channels and 80 trials\n",
      "selecting 10 trials\n",
      "the call to \"ft_selectdata\" took 0 seconds\n",
      "the call to \"ft_redefinetrial\" took 0 seconds\n"
     ]
    }
   ],
   "source": [
    "%% Filter trials on specific type (2)\n",
    "\n",
    "cfg = [];\n",
    "cfg.trials = data.trialinfo == 2;\n",
    "dataWN = ft_redefinetrial(cfg, data);\n",
    "\n",
    "save dataWN dataWN"
   ]
  },
  {
   "cell_type": "code",
   "execution_count": 9,
   "id": "34181e07-2eb3-45c7-83d9-1124fe82133c",
   "metadata": {},
   "outputs": [
    {
     "name": "stdout",
     "output_type": "stream",
     "text": [
      "the input is raw data with 109 channels and 80 trials\n",
      "selecting 10 trials\n",
      "the call to \"ft_selectdata\" took 0 seconds\n",
      "the call to \"ft_redefinetrial\" took 0 seconds\n"
     ]
    }
   ],
   "source": [
    "%% Filter trials on specific type (3)\n",
    "\n",
    "cfg = [];\n",
    "cfg.trials = data.trialinfo == 3;\n",
    "dataHF = ft_redefinetrial(cfg, data);\n",
    "\n",
    "save dataHF dataHF"
   ]
  },
  {
   "cell_type": "markdown",
   "id": "3558b588-7efb-421e-b2e5-06a722fc3487",
   "metadata": {},
   "source": [
    "Some trials and channels might be extremely noisy, a check is made in the following to remove the trials and bad channels.\n",
    "Simply click on bad trials first, then on bad channels. (Never exclude channels first, but always trials)"
   ]
  },
  {
   "cell_type": "code",
   "execution_count": 10,
   "id": "9d21e1bf-3fce-41bd-82ed-06dfd2786299",
   "metadata": {},
   "outputs": [
    {
     "name": "stderr",
     "output_type": "stream",
     "text": [
      "Error connecting to MATLAB. Check the status of MATLAB by clicking the \"Open MATLAB\" button. Retry after ensuring MATLAB is running successfully"
     ]
    }
   ],
   "source": [
    "%% Visual Inspection LF\n",
    "\n",
    "\n",
    "cfg = [];\n",
    "cfg.method='summary';\n",
    "cfg.channel = {'L*', 'R*'};\n",
    " \n",
    "dataLF_rej = ft_rejectvisual(cfg, dataLF);\n",
    "\n",
    "\n",
    "save dataLF_rej dataLF_rej"
   ]
  },
  {
   "cell_type": "markdown",
   "id": "1d002d4b-bd59-42f9-8ce7-4f1e7c21456d",
   "metadata": {},
   "source": [
    "The following window pops up, choose a metric to discriminate bad trials first then bad channels.\n",
    "Example: for the `var` metric, we would see certain trials having a very different variance than the majority of the trials (bottom left window). Click that trial to eliminate it. Once done, do the same with clicking on the top right window to eliminate bad channels."
   ]
  },
  {
   "attachments": {
    "6faf7adb-a432-4a85-8210-695a4cf6166d.png": {
     "image/png": "[encoded data removed]"
    }
   },
   "cell_type": "markdown",
   "id": "6c987715-4b92-4447-8cca-1286fb1ffd44",
   "metadata": {},
   "source": [
    "![image.png](attachment:6faf7adb-a432-4a85-8210-695a4cf6166d.png)"
   ]
  },
  {
   "cell_type": "markdown",
   "id": "e4223708-38a8-4d59-9bbb-11ad722befb3",
   "metadata": {},
   "source": [
    "We will now do the same with the HF and WN trials."
   ]
  },
  {
   "cell_type": "code",
   "execution_count": null,
   "id": "4fd16f21-d086-4d25-88f3-a0552849cad3",
   "metadata": {},
   "outputs": [],
   "source": [
    "%% Visual Inspection HF\n",
    "\n",
    "\n",
    "cfg = [];\n",
    "cfg.method='summary'; % Start first with eliminating trials rather than channels\n",
    "cfg.channel = {'L*', 'R*'};\n",
    " \n",
    "dataHF_rej = ft_rejectvisual(cfg, dataHF);\n",
    "\n",
    "save dataHF_rej dataHF_rej"
   ]
  },
  {
   "cell_type": "code",
   "execution_count": null,
   "id": "496ca2ac-c787-46c6-9db8-aa36b4dbaa8e",
   "metadata": {},
   "outputs": [],
   "source": [
    "%% Visual Inspection WN\n",
    "\n",
    "\n",
    "cfg = [];\n",
    "cfg.method='summary';\n",
    "cfg.channel = {'L*', 'R*'};\n",
    " \n",
    "dataWN_rej = ft_rejectvisual(cfg, dataWN);\n",
    "\n",
    "save dataWN_rej dataWN_rej"
   ]
  },
  {
   "cell_type": "markdown",
   "id": "921335ce-4ed5-407d-bcc0-fc280b6f575a",
   "metadata": {},
   "source": [
    "Time-lock analysis\n",
    "------------------\n",
    "It is known that in an auditory task, we should see the auditory cortex activated 100ms after the audio stimulus has been presented.\n",
    "In the sequel, we will focus on showing this result.\n",
    "Start by first computing the averaged Event-Related Fields (ERF) over the trials for each trial type.\n",
    "The ERF are fluctuations in the magnetic field generated by the brain occuring in response to the stimuli.\n",
    "This step takes a few minutes to complete."
   ]
  },
  {
   "cell_type": "code",
   "execution_count": 13,
   "id": "a378ac47-bafb-4283-b87f-878eae18c7ff",
   "metadata": {},
   "outputs": [
    {
     "name": "stderr",
     "output_type": "stream",
     "text": [
      "Error using load\n",
      "dataHF_rej is not found in the current folder or on the MATLAB path, but exists in:\n",
      "    C:\\Users\\hz3752\\PycharmProjects\\meg-pipeline\\pipeline\\hadi_code\\oddball_experiment_OPM\n",
      "\n",
      "Change the MATLAB current folder or add its folder to the MATLAB path."
     ]
    }
   ],
   "source": [
    "cd('\n",
    "\n",
    "load dataLF_rej\n",
    "load dataHF_rej\n",
    "load dataWN_rej\n",
    "\n",
    "cfg = [];\n",
    "\n",
    "avgLF = ft_timelockanalysis(cfg, dataLF_rej);\n",
    "avgHF = ft_timelockanalysis(cfg, dataHF_rej);\n",
    "avgWN = ft_timelockanalysis(cfg, dataWN_rej);"
   ]
  },
  {
   "cell_type": "code",
   "execution_count": null,
   "id": "21f2a747-cf11-44a9-815e-d78ec3472093",
   "metadata": {},
   "outputs": [],
   "source": []
  },
  {
   "cell_type": "code",
   "execution_count": null,
   "id": "3ab83750-3679-4b5d-a0bc-cffc821414cd",
   "metadata": {},
   "outputs": [],
   "source": []
  },
  {
   "cell_type": "code",
   "execution_count": null,
   "id": "30272f3f-b2f0-4f22-8140-fee07daee5cf",
   "metadata": {},
   "outputs": [],
   "source": []
  },
  {
   "cell_type": "markdown",
   "id": "6675400c-fd78-4ccc-891f-2e9b02f93882",
   "metadata": {},
   "source": [
    "Ways to improve this notebook\n",
    "-----------------------------\n",
    "- adapt the filenames of datasets to BIDS"
   ]
  },
  {
   "cell_type": "code",
   "execution_count": null,
   "id": "e76e9626-a099-4b57-93d4-8fed99c34bd7",
   "metadata": {},
   "outputs": [],
   "source": []
  }
 ],
 "metadata": {
  "kernelspec": {
   "display_name": "MATLAB Kernel",
   "language": "matlab",
   "name": "jupyter_matlab_kernel"
  },
  "language_info": {
   "file_extension": ".m",
   "mimetype": "text/x-matlab",
   "name": "matlab"
  }
 },
 "nbformat": 4,
 "nbformat_minor": 5
}
