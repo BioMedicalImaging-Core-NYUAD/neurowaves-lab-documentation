{
 "cells": [
  {
   "cell_type": "markdown",
   "id": "6a564cc6-c349-49f6-b998-f9967b5a29e4",
   "metadata": {
    "ExecuteTime": {
     "end_time": "2024-06-28T04:49:56.725588Z",
     "start_time": "2024-06-28T04:49:56.723155Z"
    },
    "collapsed": true,
    "jupyter": {
     "outputs_hidden": true
    }
   },
   "source": [
    "KIT to fieldtrip\n",
    "----------------\n",
    "\n",
    "Lead author: Hadi Zaatiti hadi.zaatiti@nyu.edu\n",
    "\n",
    "This notebook is to be run in MATLAB, while having fieldtrip library installed.\n",
    "It is a pipeline for processing the `oddball` experiment raw data, run frequency analysis in source space, source localization using Beamformer technique."
   ]
  },
  {
   "cell_type": "code",
   "execution_count": null,
   "id": "5316b9e8-7501-4b22-b3ea-cdff729ad6af",
   "metadata": {},
   "outputs": [],
   "source": [
    "We will start with importing the raw data and display the header information.\n",
    "The .fif file imported here is the one generated from the OPM system."
   ]
  },
  {
   "cell_type": "code",
   "execution_count": 1,
   "id": "2da26f5a-fde9-4788-95c2-85baa42d51b9",
   "metadata": {
    "ExecuteTime": {
     "end_time": "2024-06-28T04:57:47.515154Z",
     "start_time": "2024-06-28T04:57:47.512285Z"
    }
   },
   "outputs": [
    {
     "name": "stderr",
     "output_type": "stream",
     "text": [
      "Warning: adding C:\\Users\\hz3752\\Documents\\fieldtrip\\external\\mne toolbox to your MATLAB path"
     ]
    },
    {
     "name": "stdout",
     "output_type": "stream",
     "text": [
      "==============================================================================\n",
      "\n",
      "Copyright (c) 2011, Matti Hamalainen and Alexandre Gramfort\n",
      "All rights reserved.\n",
      "\n",
      "Redistribution and use in source and binary forms, with or without\n",
      "modification, are permitted provided that the following conditions are met:\n",
      "    * Redistributions of source code must retain the above copyright\n",
      "      notice, this list of conditions and the following disclaimer.\n",
      "    * Redistributions in binary form must reproduce the above copyright\n",
      "      notice, this list of conditions and the following disclaimer in the\n",
      "      documentation and/or other materials provided with the distribution.\n",
      "    * Neither the name of the Massachusetts General Hospital nor the\n",
      "      names of its contributors may be used to endorse or promote products\n",
      "      derived from this software without specific prior written permission.\n",
      "\n",
      "THIS SOFTWARE IS PROVIDED BY THE COPYRIGHT HOLDERS AND CONTRIBUTORS \"AS IS\" AND\n",
      "ANY EXPRESS OR IMPLIED WARRANTIES, INCLUDING, BUT NOT LIMITED TO, THE IMPLIED\n",
      "WARRANTIES OF MERCHANTABILITY AND FITNESS FOR A PARTICULAR PURPOSE ARE\n",
      "DISCLAIMED. IN NO EVENT SHALL MASSACHUSETTS GENERAL HOSPITAL BE LIABLE FOR ANY\n",
      "DIRECT, INDIRECT, INCIDENTAL, SPECIAL, EXEMPLARY, OR CONSEQUENTIAL DAMAGES\n",
      "(INCLUDING, BUT NOT LIMITED TO, PROCUREMENT OF SUBSTITUTE GOODS OR SERVICES;\n",
      "LOSS OF USE, DATA, OR PROFITS; OR BUSINESS INTERRUPTION) HOWEVER CAUSED AND\n",
      "ON ANY THEORY OF LIABILITY, WHETHER IN CONTRACT, STRICT LIABILITY, OR TORT\n",
      "(INCLUDING NEGLIGENCE OR OTHERWISE) ARISING IN ANY WAY OUT OF THE USE OF THIS\n",
      "SOFTWARE, EVEN IF ADVISED OF THE POSSIBILITY OF SUCH DAMAGE.\n",
      "==============================================================================\n"
     ]
    },
    {
     "name": "stderr",
     "output_type": "stream",
     "text": [
      "Warning: FieldLine data requires a numeric value for coilaccuracy>=0"
     ]
    },
    {
     "name": "stdout",
     "output_type": "stream",
     "text": [
      " In 'C:\\Users\\hz3752\\Documents\\fieldtrip\\fileio\\ft_read_header.m' at line 1930\n",
      " In 'C:\\Users\\hz3752\\Documents\\fieldtrip\\ft_preprocessing.m' at line 392\n",
      "\n"
     ]
    },
    {
     "name": "stderr",
     "output_type": "stream",
     "text": [
      "Warning: No device to head transform available in fif file"
     ]
    },
    {
     "name": "stdout",
     "output_type": "stream",
     "text": [
      " In 'C:\\Users\\hz3752\\Documents\\fieldtrip\\fileio\\private\\mne2grad.m' at line 100\n",
      " In 'C:\\Users\\hz3752\\Documents\\fieldtrip\\fileio\\ft_read_header.m' at line 1941\n",
      " In 'C:\\Users\\hz3752\\Documents\\fieldtrip\\ft_preprocessing.m' at line 392\n",
      "\n"
     ]
    },
    {
     "name": "stderr",
     "output_type": "stream",
     "text": [
      "Warning: MEG channels will likely have coordinates in device frame, not head frame"
     ]
    },
    {
     "name": "stdout",
     "output_type": "stream",
     "text": [
      " In 'C:\\Users\\hz3752\\Documents\\fieldtrip\\fileio\\private\\mne2grad.m' at line 101\n",
      " In 'C:\\Users\\hz3752\\Documents\\fieldtrip\\fileio\\ft_read_header.m' at line 1941\n",
      " In 'C:\\Users\\hz3752\\Documents\\fieldtrip\\ft_preprocessing.m' at line 392\n",
      "\n"
     ]
    },
    {
     "name": "stderr",
     "output_type": "stream",
     "text": [
      "Warning: There does not seem to be a suitable trigger channel."
     ]
    },
    {
     "name": "stdout",
     "output_type": "stream",
     "text": [
      " In 'C:\\Users\\hz3752\\Documents\\fieldtrip\\fileio\\private\\mne2grad.m' at line 214\n",
      " In 'C:\\Users\\hz3752\\Documents\\fieldtrip\\fileio\\ft_read_header.m' at line 1941\n",
      " In 'C:\\Users\\hz3752\\Documents\\fieldtrip\\ft_preprocessing.m' at line 392\n",
      "\n",
      "Opening raw data file C:\\Users\\hz3752\\PycharmProjects\\meg-pipeline\\pipeline\\hadi_code\\oddball_experiment_OPM\\20240524_122045_sub-amalopm2_file-amalopm2_raw.fif...\n",
      "\tRange : 0 ... 1368099  =      0.000 ...   273.620 secs\n",
      "Ready.\n"
     ]
    },
    {
     "name": "stderr",
     "output_type": "stream",
     "text": [
      "Warning: There does not seem to be a suitable trigger channel."
     ]
    },
    {
     "name": "stdout",
     "output_type": "stream",
     "text": [
      " In 'C:\\Users\\hz3752\\Documents\\fieldtrip\\fileio\\ft_chantype.m' at line 198\n",
      " In 'C:\\Users\\hz3752\\Documents\\fieldtrip\\fileio\\ft_read_header.m' at line 2837\n",
      " In 'C:\\Users\\hz3752\\Documents\\fieldtrip\\ft_preprocessing.m' at line 392\n",
      "\n",
      "processing channel { 'L202_bz' 'L302_bz' 'R102_bz' 'L404_bz' 'R103_bz' 'L505_bz' 'L203_bz' 'L606_bz' 'L101_bz' 'L208_bz' 'L204_bz' 'L303_bz' 'R107_bz' 'L405_bz' 'L103_bz' 'L502_bz' 'R104_bz' 'L307_bz' 'R105_bz' 'L403_bz' 'L102_bz' 'L402_bz' 'L104_bz' 'L604_bz' 'R101_bz' 'L304_bz' 'L201_bz' 'L306_bz' 'L205_bz' 'L305_bz' 'di31' 'L105_bz' 'L503_bz' 'R307_bz' 'R205_bz' 'L214_bz' 'R301_bz' 'L111_bz' 'R202_bz' 'L113_bz' 'R402_bz' 'R211_bz' 'R203_bz' 'R408_bz' 'R302_bz' 'R213_bz' 'R206_bz' 'R113_bz' 'R304_bz' 'R210_bz' 'R208_bz' 'R209_bz' 'R204_bz' 'R212_bz' 'R305_bz' 'R409_bz' 'R303_bz' 'R308_bz' 'R207_bz' 'R309_bz' 'R201_bz' 'R407_bz' 'R306_bz' 'R311_bz' 'R401_bz' 'R502_bz' 'R504_bz' 'R605_bz' 'R603_bz' 'R503_bz' 'R405_bz' 'R506_bz' 'R507_bz' 'R403_bz' 'R604_bz' 'R111_bz' 'R606_bz' 'L312_bz' 'R406_bz' 'R505_bz' 'R602_bz' 'L407_bz' 'L310_bz' 'L115_bz' 'L211_bz' 'L210_bz' 'L309_bz' 'R110_bz' 'L311_bz' 'L308_bz' 'L406_bz' 'L212_bz' 'R115_bz' 'L209_bz' 'L408_bz' 'L109_bz' 'L409_bz' 'hpiin175' 'hpiout175' 'hpiin176' 'hpiout176' 'hpiin177' 'hpiout177' 'hpiin178' 'hpiout178' 'hpiin179' 'hpiout179' 'hpiin180' 'hpiout180' }\n",
      "reading and preprocessing\n",
      "Reading 0 ... 1368099  =      0.000 ...   273.620 secs... [done]\n",
      "reading and preprocessing trial 1 from 1\n",
      "the call to \"ft_preprocessing\" took 12 seconds\n"
     ]
    },
    {
     "name": "stderr",
     "output_type": "stream",
     "text": [
      "Warning: FieldLine data requires a numeric value for coilaccuracy>=0"
     ]
    },
    {
     "name": "stdout",
     "output_type": "stream",
     "text": [
      " In 'C:\\Users\\hz3752\\Documents\\fieldtrip\\fileio\\ft_read_header.m' at line 1930\n",
      "\n"
     ]
    },
    {
     "name": "stderr",
     "output_type": "stream",
     "text": [
      "Warning: No device to head transform available in fif file"
     ]
    },
    {
     "name": "stdout",
     "output_type": "stream",
     "text": [
      " In 'C:\\Users\\hz3752\\Documents\\fieldtrip\\fileio\\private\\mne2grad.m' at line 100\n",
      " In 'C:\\Users\\hz3752\\Documents\\fieldtrip\\fileio\\ft_read_header.m' at line 1941\n",
      "\n"
     ]
    },
    {
     "name": "stderr",
     "output_type": "stream",
     "text": [
      "Warning: MEG channels will likely have coordinates in device frame, not head frame"
     ]
    },
    {
     "name": "stdout",
     "output_type": "stream",
     "text": [
      " In 'C:\\Users\\hz3752\\Documents\\fieldtrip\\fileio\\private\\mne2grad.m' at line 101\n",
      " In 'C:\\Users\\hz3752\\Documents\\fieldtrip\\fileio\\ft_read_header.m' at line 1941\n",
      "\n"
     ]
    },
    {
     "name": "stderr",
     "output_type": "stream",
     "text": [
      "Warning: There does not seem to be a suitable trigger channel."
     ]
    },
    {
     "name": "stdout",
     "output_type": "stream",
     "text": [
      " In 'C:\\Users\\hz3752\\Documents\\fieldtrip\\fileio\\private\\mne2grad.m' at line 214\n",
      " In 'C:\\Users\\hz3752\\Documents\\fieldtrip\\fileio\\ft_read_header.m' at line 1941\n",
      "\n",
      "Opening raw data file C:\\Users\\hz3752\\PycharmProjects\\meg-pipeline\\pipeline\\hadi_code\\oddball_experiment_OPM\\20240524_122045_sub-amalopm2_file-amalopm2_raw.fif...\n",
      "\tRange : 0 ... 1368099  =      0.000 ...   273.620 secs\n",
      "Ready.\n"
     ]
    },
    {
     "name": "stderr",
     "output_type": "stream",
     "text": [
      "Warning: There does not seem to be a suitable trigger channel."
     ]
    },
    {
     "name": "stdout",
     "output_type": "stream",
     "text": [
      " In 'C:\\Users\\hz3752\\Documents\\fieldtrip\\fileio\\ft_chantype.m' at line 198\n",
      " In 'C:\\Users\\hz3752\\Documents\\fieldtrip\\fileio\\ft_read_header.m' at line 2837\n",
      "\n",
      "          label: {109x1 cell}\n",
      "         nChans: 109\n",
      "             Fs: 5000\n",
      "           grad: [1x1 struct]\n",
      "       nSamples: 1368100\n",
      "    nSamplesPre: 0\n",
      "        nTrials: 1\n",
      "           orig: [1x1 struct]\n",
      "       chantype: {109x1 cell}\n",
      "       chanunit: {109x1 cell}\n",
      "\n"
     ]
    }
   ],
   "source": [
    "%% Data initialisation\n",
    "\n",
    "% Tutorial reference: https://www.fieldtriptoolbox.org/tutorial/eventrelatedaveraging/\n",
    "\n",
    "cfg                         = [];\n",
    "cfg.dataset                 = 'C:\\Users\\hz3752\\PycharmProjects\\meg-pipeline\\pipeline\\hadi_code\\oddball_experiment_OPM\\20240524_122045_sub-amalopm2_file-amalopm2_raw.fif';\n",
    "\n",
    "\n",
    "data_all = ft_preprocessing(cfg);\n",
    "\n",
    "% Read the header\n",
    "hdr = ft_read_header(cfg.dataset);\n",
    "\n",
    "% Display the header information\n",
    "disp(hdr);\n",
    "\n",
    "\n",
    "% The electrode positions for opm can be found in fieldtripdir/template/grad/fieldlinebeta2.mat\n",
    "% Remind that the positions of the OPM sensor can vary changed on the radial axis of the brain (By pushing OPM sensors in or out)\n",
    "% So, the sensor layout is changed for every participant according to the axial position of the sensors"
   ]
  },
  {
   "cell_type": "markdown",
   "id": "1f19765a-d2e3-4464-aafb-1696139f7179",
   "metadata": {},
   "source": [
    "In the oddball experiment we had three types of stimulus, a high frequency noise, a low frequency noise, and a white noise.\n",
    "We will read the triggers from the data and plot them."
   ]
  },
  {
   "cell_type": "code",
   "execution_count": 2,
   "id": "bc1009f1-32dc-4d1a-90ce-d1dbe0f866f8",
   "metadata": {},
   "outputs": [
    {
     "name": "stderr",
     "output_type": "stream",
     "text": [
      "Error using ft_read_header (line 251)\n",
      "file or directory '20240524_122045_sub-amalopm2_file-amalopm2_raw.fif' does not exist\n",
      "\n",
      "Error in ft_preprocessing (line 392)\n",
      "  hdr = ft_read_header(cfg.headerfile, headeropt{:});"
     ]
    }
   ],
   "source": [
    "%% Plot the trigger channel\n",
    "\n",
    "cfg = [];\n",
    "cfg.dataset = '20240524_122045_sub-amalopm2_file-amalopm2_raw.fif';\n",
    "cfg.channel = 'di31';\n",
    "data=ft_preprocessing(cfg);\n",
    "figure;plot(data.time{1},data.trial{1});"
   ]
  },
  {
   "cell_type": "code",
   "execution_count": null,
   "id": "d008bb90-72f9-4f3a-8e1c-0dd634e15b70",
   "metadata": {},
   "outputs": [],
   "source": []
  }
 ],
 "metadata": {
  "kernelspec": {
   "display_name": "MATLAB Kernel",
   "language": "matlab",
   "name": "jupyter_matlab_kernel"
  },
  "language_info": {
   "file_extension": ".m",
   "mimetype": "text/x-matlab",
   "name": "matlab"
  }
 },
 "nbformat": 4,
 "nbformat_minor": 5
}
