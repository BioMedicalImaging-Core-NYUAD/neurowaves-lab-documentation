{
 "cells": [
  {
   "cell_type": "markdown",
   "source": [
    "\n",
    "Resting State Processing Pipeline\n",
    "=================================\n",
    "\n",
    "Author: Hadi Zaatiti <hadi.zaatiti@nyu.edu>"
   ],
   "metadata": {
    "collapsed": false
   }
  },
  {
   "cell_type": "markdown",
   "source": [
    "In this script we will be processing data generated from the KIT-MEG for a resting state experiment.\n",
    "\n",
    "The experiment has been conducted using the code in [Link Text](https://github.com/hzaatiti-NYU/meg-pipeline/blob/175b9f546826cd18ae8cc5ec4897bd8261952060/experiments/general/resting_state_meg.m) involving a 5 minutes eyes closed followed by a 5 minutes eyes open of the participant.\n",
    "\n",
    "The data can be accessed at\n",
    "[Data Storage](https://meg-pipeline.readthedocs.io/en/latest/datastorage.html#data-storage) we will be using the *resting_state/sub-01* BIDS dataset"
   ],
   "metadata": {
    "collapsed": false
   }
  },
  {
   "cell_type": "markdown",
   "source": [
    "After downloading the data, be familiar with the different files in the *meg-kit* folder:\n",
    "\n",
    "- The .con are the raw files produced by the KIT machine, has the MEG time series for each channel\n",
    "- The .con that has *analysis* in their name, have already applied a filter to account for the noisy magnetic field in the MSR, the latter is measured with the magnetometers of the KIT, this file contains the filtered MEG time series for each channel\n",
    "- The .mrk has the markers position from KIT\n",
    "- The .fif is produced by applying *KIT2FIFF* command provided by the MNE environment from the filtered .con file and the .mrk files (Check the KIT2FIF tutorial in this documentation)\n",
    "- We obtained two .fif files, one for eyes closed and one for eyes open\n"
   ],
   "metadata": {
    "collapsed": false
   }
  },
  {
   "cell_type": "raw",
   "source": [
    "Import mne and set visualisations to show in the notebook"
   ],
   "metadata": {
    "collapsed": false
   }
  },
  {
   "cell_type": "code",
   "execution_count": null,
   "outputs": [],
   "source": [
    "%matplotlib inline\n",
    "import mne"
   ],
   "metadata": {
    "collapsed": false,
    "is_executing": true
   }
  },
  {
   "cell_type": "raw",
   "source": [
    "Load your .fif file"
   ],
   "metadata": {
    "collapsed": false
   }
  },
  {
   "cell_type": "code",
   "execution_count": null,
   "outputs": [],
   "source": [
    "# Load your FIFF file\n",
    "raw = mne.io.read_raw_fif('path_to_your_file.fif', verbose=False)"
   ],
   "metadata": {
    "collapsed": false
   }
  },
  {
   "cell_type": "raw",
   "source": [
    "Display the info structure from the data"
   ],
   "metadata": {
    "collapsed": false
   }
  },
  {
   "cell_type": "code",
   "execution_count": null,
   "outputs": [],
   "source": [
    "print(raw.info)"
   ],
   "metadata": {
    "collapsed": false
   }
  }
 ],
 "metadata": {
  "kernelspec": {
   "display_name": "Python 3",
   "language": "python",
   "name": "python3"
  },
  "language_info": {
   "codemirror_mode": {
    "name": "ipython",
    "version": 2
   },
   "file_extension": ".py",
   "mimetype": "text/x-python",
   "name": "python",
   "nbconvert_exporter": "python",
   "pygments_lexer": "ipython2",
   "version": "2.7.6"
  }
 },
 "nbformat": 4,
 "nbformat_minor": 0
}
