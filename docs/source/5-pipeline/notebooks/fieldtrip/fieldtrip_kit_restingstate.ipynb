{
 "cells": [
  {
   "cell_type": "markdown",
   "id": "dcc9ed72-23d0-4228-ac2a-0da7dcbf8181",
   "metadata": {
    "ExecuteTime": {
     "end_time": "2024-10-07T12:34:46.355313Z",
     "start_time": "2024-10-07T12:34:46.350508Z"
    },
    "collapsed": true,
    "jupyter": {
     "outputs_hidden": true
    }
   },
   "source": [
    "Fieldtrip: Resting State analysis pipeline\n",
    "==========================================\n",
    "\n",
    "Lead authors: Hadi Zaatiti <hadi.zaatiti@nyu.edu>, Karima Raafat, <karima.raafat@nyu.edu>\n",
    "\n",
    "This notebook is to be run in MATLAB, while having fieldtrip library installed.\n",
    "It is a pipeline for processing the `Resting State` experiment raw data acquired from KIT-MEG system at NYUAD, run frequency analysis in sensor space.\n",
    "The `Resting State` code experiment in Psychtoolbox can be found here:\n",
    "\n",
    "[Resting State Experiment page](https://meg-pipeline.readthedocs.io/en/latest/3-experimentdesign/experiments/1-exp-resting-state.html)"
   ]
  },
  {
   "cell_type": "markdown",
   "id": "d34dce04-09e6-43a7-877d-b632e24dcc3c",
   "metadata": {},
   "source": [
    "Importing data and preprocessing \n",
    "--------------------------------\n",
    "\n",
    "Example for KIT\n",
    "\n",
    "The data used in this notebook is hosted on `NYU BOX`. Permissions are given upon request.\n",
    "\n",
    "- Install the BOX app from [here](https://www.box.com/resources/downloads)\n",
    "- Set an environment variable with name `MEG_DATA` to the path of the Data folder e.g.,\n",
    "    - `C:\\Users\\user_name\\Box\\MEG\\Data`\n",
    "    - or `C:\\Users\\user_name\\Box\\Data`\n",
    "\n",
    "Each experiment run using the KIT system generates a `.con` file and two or more .mrk files."
   ]
  },
  {
   "cell_type": "code",
   "execution_count": 3,
   "id": "70cf61ae-91d4-4377-819b-76eb3aa789d5",
   "metadata": {},
   "outputs": [],
   "source": [
    "%% Resting state task pipeline\n",
    "\n",
    "MEG_DATA_FOLDER = getenv('MEG_DATA');\n",
    "\n",
    "TASK_NAME = 'resting-state\\';\n",
    "\n",
    "% Set path to KIT .con file of sub-03\n",
    "DATASET_PATH = [MEG_DATA_FOLDER, TASK_NAME];\n",
    "\n",
    "%THis needs fixing to sav eproperly\n",
    "SAVE_PATH = [MEG_DATA_FOLDER, TASK_NAME];\n",
    "\n",
    "SYSTEM  = 'meg-kit2\\';\n",
    "SUB_ID = 'sub-01\\';\n",
    "\n",
    "CLOSED_EYES = [DATASET_PATH, SUB_ID, SYSTEM, 'closed_resting_01.con'];\n",
    "\n",
    "OPEN_EYES = [DATASET_PATH, SUB_ID, SYSTEM, 'open_resting_02.con'];"
   ]
  },
  {
   "cell_type": "markdown",
   "id": "ac9b2be4-e8e6-410a-9906-c0464d5c64a1",
   "metadata": {},
   "source": [
    "Preprocess the data."
   ]
  },
  {
   "cell_type": "code",
   "execution_count": 4,
   "id": "66b86af6-0f84-4d32-b1e4-dbea3e8e9947",
   "metadata": {},
   "outputs": [
    {
     "name": "stdout",
     "output_type": "stream",
     "text": [
      "-------------------------------------------------------------------------------------------\n",
      "FieldTrip is developed by members and collaborators of the Donders Institute for Brain,\n",
      "Cognition and Behaviour at Radboud University, Nijmegen, the Netherlands.\n",
      "\n",
      "                          --------------------------\n",
      "                        /                            \\\n",
      "                     ------------------------------------\n",
      "                    /                                    \\\n",
      "          -------------------------------------------------\n",
      "         /                            /\\/\\/\\/\\/\\ \n",
      "         ---------------------------------------------------\n",
      "                  |        F  i  e  l  d  T  r  i  p       |\n",
      "                  ------------------------------------------\n",
      "                   \\                                      /\n",
      "                     ------------------------------------\n",
      "                          \\            /\n",
      "                            ----------\n",
      "\n",
      "Please cite the FieldTrip reference paper when you have used FieldTrip in your study.\n",
      "Robert Oostenveld, Pascal Fries, Eric Maris, and Jan-Mathijs Schoffelen. FieldTrip: Open\n",
      "Source Software for Advanced Analysis of MEG, EEG, and Invasive Electrophysiological Data.\n",
      "Computational Intelligence and Neuroscience, vol. 2011, Article ID 156869, 9 pages, 2011.\n",
      "doi:10.1155/2011/156869.\n",
      "-------------------------------------------------------------------------------------------\n",
      "processing channel { 'AG001' 'AG002' 'AG003' 'AG004' 'AG005' 'AG006' 'AG007' 'AG008' 'AG009' 'AG010' 'AG011' 'AG012' 'AG013' 'AG014' 'AG015' 'AG016' 'AG017' 'AG018' 'AG019' 'AG020' 'AG021' 'AG022' 'AG023' 'AG024' 'AG025' 'AG026' 'AG027' 'AG028' 'AG029' 'AG030' 'AG031' 'AG032' 'AG033' 'AG034' 'AG035' 'AG036' 'AG037' 'AG038' 'AG039' 'AG040' 'AG041' 'AG042' 'AG043' 'AG044' 'AG045' 'AG046' 'AG047' 'AG048' 'AG049' 'AG050' 'AG051' 'AG052' 'AG053' 'AG054' 'AG055' 'AG056' 'AG057' 'AG058' 'AG059' 'AG060' 'AG061' 'AG062' 'AG063' 'AG064' 'AG065' 'AG066' 'AG067' 'AG068' 'AG069' 'AG070' 'AG071' 'AG072' 'AG073' 'AG074' 'AG075' 'AG076' 'AG077' 'AG078' 'AG079' 'AG080' 'AG081' 'AG082' 'AG083' 'AG084' 'AG085' 'AG086' 'AG087' 'AG088' 'AG089' 'AG090' 'AG091' 'RM092' 'AG093' 'AG094' 'AG095' 'AG096' 'AG097' 'AG098' 'AG099' 'AG100' 'AG101' 'AG102' 'AG103' 'AG104' 'AG105' 'AG106' 'AG107' 'AG108' 'AG109' 'AG110' 'AG111' 'AG112' 'AG113' 'AG114' 'AG115' 'AG116' 'AG117' 'AG118' 'AG119' 'AG120' 'AG121' 'AG122' 'AG123' 'AG124' 'AG125' 'AG126' 'AG127' 'AG128' 'AG129' 'AG130' 'AG131' 'AG132' 'AG133' 'AG134' 'AG135' 'AG136' 'AG137' 'AG138' 'AG139' 'AG140' 'AG141' 'AG142' 'AG143' 'AG144' 'AG145' 'AG146' 'AG147' 'AG148' 'AG149' 'AG150' 'AG151' 'AG152' 'AG153' 'AG154' 'AG155' 'AG156' 'AG157' 'AG158' 'AG159' 'AG160' 'AG161' 'AG162' 'AG163' 'AG164' 'AG165' 'AG166' 'AG167' 'AG168' 'AG169' 'AG170' 'AG171' 'AG172' 'AG173' 'AG174' 'AG175' 'AG176' 'AG177' 'AG178' 'AG179' 'AG180' 'AG181' 'AG182' 'AG183' 'AG184' 'AG185' 'AG186' 'AG187' 'AG188' 'AG189' 'AG190' 'AG191' 'AG192' 'AG193' 'AG194' 'AG195' 'AG196' 'AG197' 'AG198' 'AG199' 'AG200' 'AG201' 'AG202' 'AG203' 'AG204' 'AG205' 'AG206' 'AG207' 'AG208' 'RM209' 'RM210' 'RM211' 'RM212' 'RM213' 'RM214' 'RM215' 'RM216' 'RM217' 'RM218' 'RM219' 'RM220' 'RM221' 'RM222' 'RM223' 'RM224' '225' '226' '227' '228' '229' '230' '231' '232' '233' '234' '235' '236' '237' '238' '239' '240' '241' '242' '243' '244' '245' '246' '247' '248' '249' '250' '251' '252' '253' '254' '255' '256' }\n",
      "reading and preprocessing\n",
      "reading and preprocessing trial 1 from 1\n",
      "the call to \"ft_preprocessing\" took 10 seconds\n",
      "processing channel { 'AG001' 'AG002' 'AG003' 'AG004' 'AG005' 'AG006' 'AG007' 'AG008' 'AG009' 'AG010' 'AG011' 'AG012' 'AG013' 'AG014' 'AG015' 'AG016' 'AG017' 'AG018' 'AG019' 'AG020' 'AG021' 'AG022' 'AG023' 'AG024' 'AG025' 'AG026' 'AG027' 'AG028' 'AG029' 'AG030' 'AG031' 'AG032' 'AG033' 'AG034' 'AG035' 'AG036' 'AG037' 'AG038' 'AG039' 'AG040' 'AG041' 'AG042' 'AG043' 'AG044' 'AG045' 'AG046' 'AG047' 'AG048' 'AG049' 'AG050' 'AG051' 'AG052' 'AG053' 'AG054' 'AG055' 'AG056' 'AG057' 'AG058' 'AG059' 'AG060' 'AG061' 'AG062' 'AG063' 'AG064' 'AG065' 'AG066' 'AG067' 'AG068' 'AG069' 'AG070' 'AG071' 'AG072' 'AG073' 'AG074' 'AG075' 'AG076' 'AG077' 'AG078' 'AG079' 'AG080' 'AG081' 'AG082' 'AG083' 'AG084' 'AG085' 'AG086' 'AG087' 'AG088' 'AG089' 'AG090' 'AG091' 'RM092' 'AG093' 'AG094' 'AG095' 'AG096' 'AG097' 'AG098' 'AG099' 'AG100' 'AG101' 'AG102' 'AG103' 'AG104' 'AG105' 'AG106' 'AG107' 'AG108' 'AG109' 'AG110' 'AG111' 'AG112' 'AG113' 'AG114' 'AG115' 'AG116' 'AG117' 'AG118' 'AG119' 'AG120' 'AG121' 'AG122' 'AG123' 'AG124' 'AG125' 'AG126' 'AG127' 'AG128' 'AG129' 'AG130' 'AG131' 'AG132' 'AG133' 'AG134' 'AG135' 'AG136' 'AG137' 'AG138' 'AG139' 'AG140' 'AG141' 'AG142' 'AG143' 'AG144' 'AG145' 'AG146' 'AG147' 'AG148' 'AG149' 'AG150' 'AG151' 'AG152' 'AG153' 'AG154' 'AG155' 'AG156' 'AG157' 'AG158' 'AG159' 'AG160' 'AG161' 'AG162' 'AG163' 'AG164' 'AG165' 'AG166' 'AG167' 'AG168' 'AG169' 'AG170' 'AG171' 'AG172' 'AG173' 'AG174' 'AG175' 'AG176' 'AG177' 'AG178' 'AG179' 'AG180' 'AG181' 'AG182' 'AG183' 'AG184' 'AG185' 'AG186' 'AG187' 'AG188' 'AG189' 'AG190' 'AG191' 'AG192' 'AG193' 'AG194' 'AG195' 'AG196' 'AG197' 'AG198' 'AG199' 'AG200' 'AG201' 'AG202' 'AG203' 'AG204' 'AG205' 'AG206' 'AG207' 'AG208' 'RM209' 'RM210' 'RM211' 'RM212' 'RM213' 'RM214' 'RM215' 'RM216' 'RM217' 'RM218' 'RM219' 'RM220' 'RM221' 'RM222' 'RM223' 'RM224' '225' '226' '227' '228' '229' '230' '231' '232' '233' '234' '235' '236' '237' '238' '239' '240' '241' '242' '243' '244' '245' '246' '247' '248' '249' '250' '251' '252' '253' '254' '255' '256' }\n",
      "reading and preprocessing\n",
      "reading and preprocessing trial 1 from 1\n",
      "the call to \"ft_preprocessing\" took 4 seconds\n"
     ]
    }
   ],
   "source": [
    "%% Preprocess data\n",
    "\n",
    "% Preprocess the MEG data\n",
    "cfg = [];\n",
    "cfg.dataset = CLOSED_EYES;\n",
    "cfg.coilaccuracy = 0;\n",
    "data_CLOSED_EYES = ft_preprocessing(cfg);\n",
    "\n",
    "% Preprocess the MEG data\n",
    "cfg = [];\n",
    "cfg.dataset = OPEN_EYES;\n",
    "cfg.coilaccuracy = 0;\n",
    "data_OPEN_EYES = ft_preprocessing(cfg);"
   ]
  },
  {
   "cell_type": "markdown",
   "id": "5f8cf031-b9f8-44b8-aa0e-1bcdac6e2657",
   "metadata": {},
   "source": [
    "We can now define two trials, one for eyes closed and one for eyes open."
   ]
  },
  {
   "cell_type": "code",
   "execution_count": 5,
   "id": "d467d45b-c803-434e-953a-3e51af77fdff",
   "metadata": {},
   "outputs": [
    {
     "name": "stdout",
     "output_type": "stream",
     "text": [
      "evaluating trial function 'ft_trialfun_general'\n",
      "reading the header from 'C:\\Users\\hz3752\\Box\\MEG\\Data\\resting-state\\sub-01\\meg-kit2\\closed_resting_01.con'\n",
      "reading the events from 'C:\\Users\\hz3752\\Box\\MEG\\Data\\resting-state\\sub-01\\meg-kit2\\closed_resting_01.con'\n",
      "found 1 events\n",
      "created 1 trials\n",
      "the call to \"ft_definetrial\" took 5 seconds\n",
      "using the events from the configuration structure\n",
      "the following events were found in the data:\n",
      "\n",
      "event type: 'combined_binary_trigger' \n",
      "with event values : 1\n",
      "these values occur: 1 times\n",
      "\n",
      "processing channel { 'AG001' 'AG002' 'AG003' 'AG004' 'AG005' 'AG006' 'AG007' 'AG008' 'AG009' 'AG010' 'AG011' 'AG012' 'AG013' 'AG014' 'AG015' 'AG016' 'AG017' 'AG018' 'AG019' 'AG020' 'AG021' 'AG022' 'AG023' 'AG024' 'AG025' 'AG026' 'AG027' 'AG028' 'AG029' 'AG030' 'AG031' 'AG032' 'AG033' 'AG034' 'AG035' 'AG036' 'AG037' 'AG038' 'AG039' 'AG040' 'AG041' 'AG042' 'AG043' 'AG044' 'AG045' 'AG046' 'AG047' 'AG048' 'AG049' 'AG050' 'AG051' 'AG052' 'AG053' 'AG054' 'AG055' 'AG056' 'AG057' 'AG058' 'AG059' 'AG060' 'AG061' 'AG062' 'AG063' 'AG064' 'AG065' 'AG066' 'AG067' 'AG068' 'AG069' 'AG070' 'AG071' 'AG072' 'AG073' 'AG074' 'AG075' 'AG076' 'AG077' 'AG078' 'AG079' 'AG080' 'AG081' 'AG082' 'AG083' 'AG084' 'AG085' 'AG086' 'AG087' 'AG088' 'AG089' 'AG090' 'AG091' 'RM092' 'AG093' 'AG094' 'AG095' 'AG096' 'AG097' 'AG098' 'AG099' 'AG100' 'AG101' 'AG102' 'AG103' 'AG104' 'AG105' 'AG106' 'AG107' 'AG108' 'AG109' 'AG110' 'AG111' 'AG112' 'AG113' 'AG114' 'AG115' 'AG116' 'AG117' 'AG118' 'AG119' 'AG120' 'AG121' 'AG122' 'AG123' 'AG124' 'AG125' 'AG126' 'AG127' 'AG128' 'AG129' 'AG130' 'AG131' 'AG132' 'AG133' 'AG134' 'AG135' 'AG136' 'AG137' 'AG138' 'AG139' 'AG140' 'AG141' 'AG142' 'AG143' 'AG144' 'AG145' 'AG146' 'AG147' 'AG148' 'AG149' 'AG150' 'AG151' 'AG152' 'AG153' 'AG154' 'AG155' 'AG156' 'AG157' 'AG158' 'AG159' 'AG160' 'AG161' 'AG162' 'AG163' 'AG164' 'AG165' 'AG166' 'AG167' 'AG168' 'AG169' 'AG170' 'AG171' 'AG172' 'AG173' 'AG174' 'AG175' 'AG176' 'AG177' 'AG178' 'AG179' 'AG180' 'AG181' 'AG182' 'AG183' 'AG184' 'AG185' 'AG186' 'AG187' 'AG188' 'AG189' 'AG190' 'AG191' 'AG192' 'AG193' 'AG194' 'AG195' 'AG196' 'AG197' 'AG198' 'AG199' 'AG200' 'AG201' 'AG202' 'AG203' 'AG204' 'AG205' 'AG206' 'AG207' 'AG208' 'RM209' 'RM210' 'RM211' 'RM212' 'RM213' 'RM214' 'RM215' 'RM216' 'RM217' 'RM218' 'RM219' 'RM220' 'RM221' 'RM222' 'RM223' 'RM224' '225' '226' '227' '228' '229' '230' '231' '232' '233' '234' '235' '236' '237' '238' '239' '240' '241' '242' '243' '244' '245' '246' '247' '248' '249' '250' '251' '252' '253' '254' '255' '256' }\n",
      "reading and preprocessing\n",
      "reading and preprocessing trial 1 from 1\n",
      "the call to \"ft_preprocessing\" took 1 seconds\n"
     ]
    }
   ],
   "source": [
    "  %% Define trials and segment the data: CLOSED EYES\n",
    "\n",
    "    previewTrigger = data_CLOSED_EYES.trial{1}(225, :);\n",
    "\n",
    "    MIN_trig = min(previewTrigger);\n",
    "    MAX_trig = max(previewTrigger);\n",
    "\n",
    "    threshold = (max(previewTrigger) + min(previewTrigger)) / 2;\n",
    "\n",
    "    cfg = [];\n",
    "    cfg.dataset  = CLOSED_EYES;\n",
    "    cfg.trialdef.eventvalue = 1; % placeholder for the conditions\n",
    "    cfg.trialdef.prestim    = 0; % 1s before stimulus onset\n",
    "    cfg.trialdef.poststim   = 200; % 1s after stimulus onset\n",
    "    cfg.trialfun = 'ft_trialfun_general';\n",
    "    cfg.trialdef.chanindx = 225;\n",
    "    cfg.trialdef.threshold = threshold;\n",
    "    cfg.trialdef.eventtype = 'combined_binary_trigger'; % this will be the type of the event if combinebinary = true\n",
    "    cfg.trialdef.combinebinary = 1;\n",
    "\n",
    "    CFG_TRIALS_CLOSED_EYES = ft_definetrial(cfg);\n",
    "    \n",
    "    ft_trialfun_show(CFG_TRIALS_CLOSED_EYES);\n",
    "\n",
    "    SG_CLOSED_EYES = ft_preprocessing(CFG_TRIALS_CLOSED_EYES);"
   ]
  },
  {
   "cell_type": "markdown",
   "id": "a7ebc9ea-231d-447e-b01b-8e910d9c0baf",
   "metadata": {},
   "source": [
    "The open eyes data is the whole dataset, therefore to define this trial we will not be using any trigger channel, but rather define the trial from the 38000 to 238000 sample. (Sampling Frequency is 1kHz)."
   ]
  },
  {
   "cell_type": "code",
   "execution_count": 1,
   "id": "39f45451-c73b-4fc3-9732-6c8af5464b18",
   "metadata": {},
   "outputs": [
    {
     "name": "stdout",
     "output_type": "stream",
     "text": [
      "processing channel { 'AG001' 'AG002' 'AG003' 'AG004' 'AG005' 'AG006' 'AG007' 'AG008' 'AG009' 'AG010' 'AG011' 'AG012' 'AG013' 'AG014' 'AG015' 'AG016' 'AG017' 'AG018' 'AG019' 'AG020' 'AG021' 'AG022' 'AG023' 'AG024' 'AG025' 'AG026' 'AG027' 'AG028' 'AG029' 'AG030' 'AG031' 'AG032' 'AG033' 'AG034' 'AG035' 'AG036' 'AG037' 'AG038' 'AG039' 'AG040' 'AG041' 'AG042' 'AG043' 'AG044' 'AG045' 'AG046' 'AG047' 'AG048' 'AG049' 'AG050' 'AG051' 'AG052' 'AG053' 'AG054' 'AG055' 'AG056' 'AG057' 'AG058' 'AG059' 'AG060' 'AG061' 'AG062' 'AG063' 'AG064' 'AG065' 'AG066' 'AG067' 'AG068' 'AG069' 'AG070' 'AG071' 'AG072' 'AG073' 'AG074' 'AG075' 'AG076' 'AG077' 'AG078' 'AG079' 'AG080' 'AG081' 'AG082' 'AG083' 'AG084' 'AG085' 'AG086' 'AG087' 'AG088' 'AG089' 'AG090' 'AG091' 'RM092' 'AG093' 'AG094' 'AG095' 'AG096' 'AG097' 'AG098' 'AG099' 'AG100' 'AG101' 'AG102' 'AG103' 'AG104' 'AG105' 'AG106' 'AG107' 'AG108' 'AG109' 'AG110' 'AG111' 'AG112' 'AG113' 'AG114' 'AG115' 'AG116' 'AG117' 'AG118' 'AG119' 'AG120' 'AG121' 'AG122' 'AG123' 'AG124' 'AG125' 'AG126' 'AG127' 'AG128' 'AG129' 'AG130' 'AG131' 'AG132' 'AG133' 'AG134' 'AG135' 'AG136' 'AG137' 'AG138' 'AG139' 'AG140' 'AG141' 'AG142' 'AG143' 'AG144' 'AG145' 'AG146' 'AG147' 'AG148' 'AG149' 'AG150' 'AG151' 'AG152' 'AG153' 'AG154' 'AG155' 'AG156' 'AG157' 'AG158' 'AG159' 'AG160' 'AG161' 'AG162' 'AG163' 'AG164' 'AG165' 'AG166' 'AG167' 'AG168' 'AG169' 'AG170' 'AG171' 'AG172' 'AG173' 'AG174' 'AG175' 'AG176' 'AG177' 'AG178' 'AG179' 'AG180' 'AG181' 'AG182' 'AG183' 'AG184' 'AG185' 'AG186' 'AG187' 'AG188' 'AG189' 'AG190' 'AG191' 'AG192' 'AG193' 'AG194' 'AG195' 'AG196' 'AG197' 'AG198' 'AG199' 'AG200' 'AG201' 'AG202' 'AG203' 'AG204' 'AG205' 'AG206' 'AG207' 'AG208' 'RM209' 'RM210' 'RM211' 'RM212' 'RM213' 'RM214' 'RM215' 'RM216' 'RM217' 'RM218' 'RM219' 'RM220' 'RM221' 'RM222' 'RM223' 'RM224' '225' '226' '227' '228' '229' '230' '231' '232' '233' '234' '235' '236' '237' '238' '239' '240' '241' '242' '243' '244' '245' '246' '247' '248' '249' '250' '251' '252' '253' '254' '255' '256' }\n",
      "reading and preprocessing\n",
      "reading and preprocessing trial 1 from 1\n",
      "the call to \"ft_preprocessing\" took 9 seconds\n"
     ]
    }
   ],
   "source": [
    "    %% Define trials and segment the data: OPEN EYES\n",
    "    % This segment is a whole trial on its own, we do not need to use a trigger channel for it\n",
    "cfg = [];\n",
    "cfg.dataset = OPEN_EYES;\n",
    "hdr = ft_read_header(cfg.dataset);\n",
    "cfg = [];\n",
    "cfg.dataset = OPEN_EYES;\n",
    "start_sample = 38000;  % Start from the first sample\n",
    "end_sample = 238000;  % End at the last sample (or specify your duration in samples)\n",
    "\n",
    "\n",
    "cfg.trl = [start_sample end_sample 0];  % 0 offset means no time shift\n",
    "\n",
    "% Proceed to preprocess using the defined trial\n",
    "SG_OPEN_EYES = ft_preprocessing(cfg);"
   ]
  },
  {
   "cell_type": "code",
   "execution_count": null,
   "id": "22c4dcf4-a4ff-4022-b7ea-0e82c7ed0427",
   "metadata": {},
   "outputs": [],
   "source": [
    "%% Create KIT sensor Layout\n",
    "\n",
    "kit_layout = create_kit_layout(kit)"
   ]
  }
 ],
 "metadata": {
  "kernelspec": {
   "display_name": "MATLAB Kernel",
   "language": "matlab",
   "name": "jupyter_matlab_kernel"
  },
  "language_info": {
   "file_extension": ".m",
   "mimetype": "text/x-matlab",
   "name": "matlab"
  }
 },
 "nbformat": 4,
 "nbformat_minor": 5
}
