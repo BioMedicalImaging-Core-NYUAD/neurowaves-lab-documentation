{
 "cells": [
  {
   "cell_type": "markdown",
   "id": "6a2d644b-3249-4737-8221-da2deabda1a2",
   "metadata": {
    "jupyter": {
     "is_executing": true
    }
   },
   "source": [
    "Fieldtrip: KIT oddball analysis with source localization using beamformer\n",
    "=========================================================================\n",
    "\n",
    "Lead authors: Hadi Zaatiti hadi.zaatiti@nyu.edu, Osama Abdullah, osama.abdullah@nyu.edu\n",
    "\n",
    "This notebook is to be run in MATLAB, while having fieldtrip library installed.\n",
    "It is a pipeline for processing the `oddball` experiment raw data acquired from KIT-MEG system at NYUAD, run frequency analysis in source space, source localization using Beamformer technique.\n",
    "The `oddball` code experiment in Psychtoolbox can be found here:\n",
    "\n",
    "[Oddball experiment page](https://meg-pipeline.readthedocs.io/en/latest/3-experimentdesign/experiments/6-exp-sound.html)\n",
    "\n",
    "[Oddball PsychToolBox code for KIT system](https://github.com/hzaatiti-NYU/meg-pipeline/blob/bc99896a4e271b902282b1432c12e338060f4fa0/experiments/psychtoolbox/sound/oddball/run_oddball_KIT.m)"
   ]
  },
  {
   "cell_type": "markdown",
   "id": "9abbc62f-f227-4f1c-b29a-b0a316442ad0",
   "metadata": {},
   "source": [
    "Importing data and preprocessing\n",
    "--------------------------------\n",
    "The data used in this notebook is hosted on `NYU BOX`. Permissions are given upon request.\n",
    "\n",
    "- Install the BOX app from [here](https://www.box.com/resources/downloads)\n",
    "- Set an environment variable with name `MEG_DATA` to the path of the Data folder e.g.,\n",
    "    - `C:\\Users\\user_name\\Box\\MEG\\Data`\n",
    "    - or `C:\\Users\\user_name\\Box\\Data`\n",
    "\n",
    "Each experiment run using the KIT system generates a `.con` and several `.mrk`. Find more details about these files in the other chapters.\n",
    "In the following setup the variables pointing to your data, headshape and MRI scan."
   ]
  },
  {
   "cell_type": "code",
   "execution_count": 44,
   "id": "e3c19093-d8f5-4759-b7e0-0b2b628850e1",
   "metadata": {},
   "outputs": [
    {
     "name": "stdout",
     "output_type": "stream",
     "text": [
      "C:\\Users\\hz3752\\PycharmProjects\\meg-pipeline\\docs\\source\\5-pipeline\\notebooks\\fieldtrip\\fieldtrip_oddball_opm_data\n"
     ]
    }
   ],
   "source": [
    "% Read the environment variable to NYU BOX\n",
    "MEG_DATA_FOLDER = getenv('MEG_DATA');\n",
    "\n",
    "% Set path to KIT .con file of sub-03\n",
    "DATASET_PATH = [MEG_DATA_FOLDER,'oddball\\sub-03\\meg-kit\\sub-03-raw-kit.con'];\n",
    "\n",
    "\n",
    "% Set path to computed .mat variables, these has been obtained by executing this pipeline and \n",
    "% will allow you to skip steps if you wish to execute a particular cell\n",
    "LOAD_PATH = [MEG_DATA_FOLDER, 'oddball\\derivatives\\kit_oddball_pipeline\\sub-03\\'];\n",
    "\n",
    "\n",
    "% Experiment your own test and save your variables in a folder of your choice, choose the folder where to save your variables\n",
    "% We will also use it to copy variables from LOAD_PATH and use them in the notebook if needed\n",
    "SAVE_PATH = 'docs\\source\\5-pipeline\\notebooks\\fieldtrip\\fieldtrip_oddball_kit_data\\';\n",
    "\n",
    "% It is important that you use T1.mgz instead of orig.mgz as T1.mgz is normalized to [255,255,255] dimension\n",
    "MRI_FILE         = fullfile([MEG_DATA_FOLDER,'oddball\\sub-03\\anat\\sub-003\\sub-003\\mri\\T1.mgz']);\n",
    " \n",
    "laser_surf      = fullfile([MEG_DATA_FOLDER,'oddball\\sub-03\\anat\\digitized-headshape\\sub-03-basic-surface.txt']);\n",
    "%The cleaned stylus points removes the last three columns (dx, dx, dz) and\n",
    "%keeps only x,y,z\n",
    "laser_points    = [MEG_DATA_FOLDER, 'oddball\\sub-03\\anat\\digitized-headshape\\sub-03-stylus-cleaned.txt'];\n",
    "mrkfile1        = [MEG_DATA_FOLDER,'oddball\\sub-03\\meg-kit\\240524-1.mrk'];\n",
    "mrkfile2        = [MEG_DATA_FOLDER, 'oddball\\sub-03\\meg-kit\\240524-2.mrk'];\n",
    "\n",
    "try\n",
    "    cd(SAVE_PATH)\n",
    "catch\n",
    "end"
   ]
  },
  {
   "cell_type": "markdown",
   "id": "1048657d-2e20-43b1-8095-f548494af4f4",
   "metadata": {},
   "source": [
    "Read the digitized headshape and stylus points.\n",
    "More information on those in other chapters of the documentation.\n",
    "The `read_head_shape_laser` function can be found in `pipeline/field_trip_pipelines/matlab_functions`. You can add it to your MATLAB path."
   ]
  },
  {
   "cell_type": "code",
   "execution_count": 21,
   "id": "12945bab-128e-42f5-8b36-6d997e1b81d1",
   "metadata": {},
   "outputs": [
    {
     "data": {
      "text/html": [
       "<html><body><pre>shape = struct with fields:\n",
       "      pos: [1681x3 double]\n",
       "      fid: [1x1 struct]\n",
       "    label: []\n",
       "</pre></body></html>"
      ],
      "text/plain": [
       "shape = struct with fields:\n",
       "      pos: [1681x3 double]\n",
       "      fid: [1x1 struct]\n",
       "    label: []\n"
      ]
     },
     "execution_count": 21,
     "metadata": {},
     "output_type": "execute_result"
    }
   ],
   "source": [
    "lasershape   = read_head_shape_laser(laser_surf,laser_points);"
   ]
  },
  {
   "cell_type": "code",
   "execution_count": 22,
   "id": "70ed1c93-8465-491e-b61d-f5e6665ff25d",
   "metadata": {},
   "outputs": [],
   "source": [
    "lasershape   = ft_convert_units(lasershape, 'mm');"
   ]
  },
  {
   "cell_type": "code",
   "execution_count": null,
   "id": "fd18c607-bd8b-4f5f-8de0-12338279c8a8",
   "metadata": {},
   "outputs": [],
   "source": [
    "Plot initial digitized headshape."
   ]
  },
  {
   "cell_type": "code",
   "execution_count": 12,
   "id": "80834384-8f44-4bdc-b808-47f0046779c4",
   "metadata": {},
   "outputs": [
    {
     "data": {
      "image/png": "[encoded data removed]"
     },
     "execution_count": 12,
     "metadata": {},
     "output_type": "execute_result"
    },
    {
     "name": "stdout",
     "output_type": "stream",
     "text": [
      "The axes are 150 mm long in each direction\n",
      "The diameter of the sphere at the origin is 10 mm\n"
     ]
    },
    {
     "data": {
      "text/html": [
       "<html><body><pre>ans = struct with fields:\n",
       "      pos: [1681x3 double]\n",
       "      fid: [1x1 struct]\n",
       "    label: []\n",
       "     unit: 'mm'\n",
       "</pre></body></html>"
      ],
      "text/plain": [
       "ans = struct with fields:\n",
       "      pos: [1681x3 double]\n",
       "      fid: [1x1 struct]\n",
       "    label: []\n",
       "     unit: 'mm'\n"
      ]
     },
     "execution_count": 12,
     "metadata": {},
     "output_type": "execute_result"
    }
   ],
   "source": [
    "ft_determine_coordsys(lasershape, 'interactive', 'no')"
   ]
  },
  {
   "cell_type": "markdown",
   "id": "1b50b97d-6ad1-4b17-881a-342d152ecede",
   "metadata": {},
   "source": [
    "Let us now define a coordinate system for the digitized headshape based on the known fiducials from the laser_shape.\n",
    "CTF is an ALS coordinate system meaning:\n",
    "- the X-coordinate axis points to A (Anterior)\n",
    "- the Y-coordinate axis points to L (Left)\n",
    "- the Z-coordinate axis points to S (Superior)\n",
    "\n",
    "The first, 4th and 5th fiducials in the stylus points correspond to Nasion, Left Ear and Right Ear.\n",
    "More information on digitized headshape fiducials is found [here.](https://meg-pipeline.readthedocs.io/en/latest/2-operationprotocol/operationprotocol.html)\n",
    "Define the transformation as follows:"
   ]
  },
  {
   "cell_type": "code",
   "execution_count": 25,
   "id": "e467031a-f159-4897-b5ce-629d676166ba",
   "metadata": {},
   "outputs": [],
   "source": [
    "laser2ctf = ft_headcoordinates(lasershape.fid.pos(1,:),lasershape.fid.pos(4,:),lasershape.fid.pos(5,:),'ctf');"
   ]
  },
  {
   "cell_type": "markdown",
   "id": "72878d78-cfdf-4c9e-9c40-ea1dc30be856",
   "metadata": {},
   "source": [
    "Apply the transformation to the digitized headshape."
   ]
  },
  {
   "cell_type": "code",
   "execution_count": 26,
   "id": "8e64f3b5-1bc6-4e20-928d-b6c202fb690a",
   "metadata": {},
   "outputs": [
    {
     "data": {
      "text/html": [
       "<html><body><pre>lasershape = struct with fields:\n",
       "      pos: [1681x3 double]\n",
       "      fid: [1x1 struct]\n",
       "    label: []\n",
       "     unit: 'mm'\n",
       "</pre></body></html>"
      ],
      "text/plain": [
       "lasershape = struct with fields:\n",
       "      pos: [1681x3 double]\n",
       "      fid: [1x1 struct]\n",
       "    label: []\n",
       "     unit: 'mm'\n"
      ]
     },
     "execution_count": 26,
     "metadata": {},
     "output_type": "execute_result"
    }
   ],
   "source": [
    "lasershape = ft_transform_geometry(laser2ctf, lasershape)"
   ]
  },
  {
   "cell_type": "markdown",
   "id": "17619865-fbe5-4cea-aa16-501babbc8c7a",
   "metadata": {},
   "source": [
    "Plot to verify the new coordinate system and ensure that the new coordinate system is indeed CTF."
   ]
  },
  {
   "cell_type": "code",
   "execution_count": 27,
   "id": "06de4e88-3bdd-41ef-9e03-068a34713d03",
   "metadata": {},
   "outputs": [
    {
     "data": {
      "image/png": "[encoded data removed]"
     },
     "execution_count": 27,
     "metadata": {},
     "output_type": "execute_result"
    },
    {
     "name": "stdout",
     "output_type": "stream",
     "text": [
      "The axes are 150 mm long in each direction\n",
      "The diameter of the sphere at the origin is 10 mm\n"
     ]
    },
    {
     "data": {
      "text/html": [
       "<html><body><pre>ans = struct with fields:\n",
       "      pos: [1681x3 double]\n",
       "      fid: [1x1 struct]\n",
       "    label: []\n",
       "     unit: 'mm'\n",
       "</pre></body></html>"
      ],
      "text/plain": [
       "ans = struct with fields:\n",
       "      pos: [1681x3 double]\n",
       "      fid: [1x1 struct]\n",
       "    label: []\n",
       "     unit: 'mm'\n"
      ]
     },
     "execution_count": 27,
     "metadata": {},
     "output_type": "execute_result"
    }
   ],
   "source": [
    "ft_determine_coordsys(lasershape, 'interactive', 'no')"
   ]
  },
  {
   "cell_type": "markdown",
   "id": "26a75654-4797-4914-912e-d07638edf661",
   "metadata": {},
   "source": [
    "Apply a z-plane cut to remove unncessary points from digitized-headshape under a certain z-value."
   ]
  },
  {
   "cell_type": "code",
   "execution_count": 37,
   "id": "a532bdb7-f08c-4dfa-953d-879e48cde350",
   "metadata": {},
   "outputs": [
    {
     "name": "stdout",
     "output_type": "stream",
     "text": [
      "Use the mouse to rotate the geometry, and click \"redisplay\" to update the light.\n",
      "Close the figure when you are done.\n",
      "the template coordinate system is unknown, selecting the viewpoint is not possible\n",
      "The axes are 150 mm long in each direction\n",
      "The diameter of the sphere at the origin is 10 mm\n",
      "\n",
      "==================================================================================\n",
      "Press \"h\" to show this help.\n",
      "Press \"q\" or close the window when you are done.\n",
      "Press \"v\" to update the light position.\n",
      "the call to \"ft_interactiverealign\" took 4 seconds\n"
     ]
    },
    {
     "data": {
      "text/html": [
       "<html><body><pre>ans = logical\n",
       "   1\n",
       "</pre></body></html>"
      ],
      "text/plain": [
       "ans = logical\n",
       "   1\n"
      ]
     },
     "execution_count": 37,
     "metadata": {},
     "output_type": "execute_result"
    },
    {
     "data": {
      "text/html": [
       "<html><body><pre>ans = logical\n",
       "   1\n",
       "</pre></body></html>"
      ],
      "text/plain": [
       "ans = logical\n",
       "   1\n"
      ]
     },
     "execution_count": 37,
     "metadata": {},
     "output_type": "execute_result"
    },
    {
     "name": "stdout",
     "output_type": "stream",
     "text": [
      "keeping 1251 and removing 430 vertices in the mesh\n",
      "the call to \"ft_defacemesh\" took 4 seconds\n"
     ]
    },
    {
     "data": {
      "image/png": "[encoded data removed]"
     },
     "execution_count": 37,
     "metadata": {},
     "output_type": "execute_result"
    },
    {
     "name": "stdout",
     "output_type": "stream",
     "text": [
      "The axes are 150 mm long in each direction\n",
      "The diameter of the sphere at the origin is 10 mm\n"
     ]
    },
    {
     "data": {
      "text/html": [
       "<html><body><pre>ans = struct with fields:\n",
       "      pos: [1251x3 double]\n",
       "      fid: [1x1 struct]\n",
       "    label: []\n",
       "     unit: 'mm'\n",
       "      cfg: [1x1 struct]\n",
       "</pre></body></html>"
      ],
      "text/plain": [
       "ans = struct with fields:\n",
       "      pos: [1251x3 double]\n",
       "      fid: [1x1 struct]\n",
       "    label: []\n",
       "     unit: 'mm'\n",
       "      cfg: [1x1 struct]\n"
      ]
     },
     "execution_count": 37,
     "metadata": {},
     "output_type": "execute_result"
    }
   ],
   "source": [
    "% Deface the laser mesh under a certain plan (change planecut) Define the configuration for ft_defacemesh\n",
    "planecut = -5;\n",
    "cfg = [];\n",
    "cfg.method    = 'plane';       % Use a plane for exclusion\n",
    "cfg.translate = [0 0 planecut]; % A point on the plane (adjust z_value as needed)\n",
    "cfg.rotate    = [0 0 0];       % Rotation vector, modify if the plane is not axis-aligned\n",
    "cfg.selection = 'outside';     % Remove points below the plane\n",
    "\n",
    "% Apply ft_defacemesh to remove points below the plane\n",
    "mesh = ft_defacemesh(cfg, lasershape);\n",
    "\n",
    "% Plot the resulting mesh to check the results\n",
    "figure\n",
    "ft_determine_coordsys(mesh, 'interactive', 'no')"
   ]
  },
  {
   "cell_type": "markdown",
   "id": "01f36b79-4f96-4db0-a4ec-6566b3d00770",
   "metadata": {},
   "source": [
    "When you are happy with the result set your lasershape as the defaced mesh."
   ]
  },
  {
   "cell_type": "code",
   "execution_count": 38,
   "id": "4c5e6aa4-0beb-4b04-8e05-3c05b613dd2c",
   "metadata": {},
   "outputs": [
    {
     "data": {
      "text/html": [
       "<html><body><pre>lasershape = struct with fields:\n",
       "      pos: [1251x3 double]\n",
       "      fid: [1x1 struct]\n",
       "    label: []\n",
       "     unit: 'mm'\n",
       "      cfg: [1x1 struct]\n",
       "</pre></body></html>"
      ],
      "text/plain": [
       "lasershape = struct with fields:\n",
       "      pos: [1251x3 double]\n",
       "      fid: [1x1 struct]\n",
       "    label: []\n",
       "     unit: 'mm'\n",
       "      cfg: [1x1 struct]\n"
      ]
     },
     "execution_count": 38,
     "metadata": {},
     "output_type": "execute_result"
    }
   ],
   "source": [
    "lasershape = mesh"
   ]
  },
  {
   "cell_type": "markdown",
   "id": "e8d29376-e8f5-4aa4-8042-229d64335982",
   "metadata": {},
   "source": [
    "Read subjets MRI T1w scan."
   ]
  },
  {
   "cell_type": "code",
   "execution_count": 41,
   "id": "2686e8c3-188a-4a36-8126-6a20e717ed13",
   "metadata": {},
   "outputs": [
    {
     "name": "stdout",
     "output_type": "stream",
     "text": [
      "extracting compressed dataset to C:\\Users\\hz3752\\AppData\\Local\\Temp\\x2001df3da49bb0c143cbbaaf3ffbe706\\...\n",
      "extracted dataset is located at C:\\Users\\hz3752\\AppData\\Local\\Temp\\x2001df3da49bb0c143cbbaaf3ffbe706\\T1\n"
     ]
    }
   ],
   "source": [
    "%% read mri and mri-headshape\n",
    "mri = ft_read_mri(MRI_FILE); % read mri file\n",
    "MRI_FILE = ft_convert_units(mri, 'mm'); %make sure units mm"
   ]
  },
  {
   "cell_type": "markdown",
   "id": "2a13b3bd-2ab9-47eb-9076-75c48f790903",
   "metadata": {},
   "source": [
    "Inspect visually the MRI."
   ]
  },
  {
   "cell_type": "code",
   "execution_count": 42,
   "id": "7d11cf3b-adcc-4041-8b5d-94446b213c36",
   "metadata": {},
   "outputs": [
    {
     "data": {
      "image/png": "[encoded data removed]"
     },
     "execution_count": 42,
     "metadata": {},
     "output_type": "execute_result"
    },
    {
     "name": "stdout",
     "output_type": "stream",
     "text": [
      "The axes are 150 mm long in each direction\n",
      "The diameter of the sphere at the origin is 10 mm\n"
     ]
    }
   ],
   "source": [
    "mri = ft_determine_coordsys(mri, 'interactive', 'no');"
   ]
  },
  {
   "cell_type": "code",
   "execution_count": null,
   "id": "76d3499d-4f75-4eaf-befe-2325939bcdbf",
   "metadata": {},
   "outputs": [
    {
     "name": "stdout",
     "output_type": "stream",
     "text": [
      "Executing ..."
     ]
    }
   ],
   "source": [
    "cfg             = [];\n",
    "cfg.method      = 'interactive';\n",
    "cfg.coordsys    = 'ctf'; %use CTF coordinates (pos x toward nose, +y to left)\n",
    "mri_init = ft_volumerealign(cfg,mri)\n",
    "ft_determine_coordsys(mri_init, 'interactive', 'no'); % sanity check, should be CTF\n",
    "\n",
    "save mri_init mri_init"
   ]
  },
  {
   "cell_type": "code",
   "execution_count": null,
   "id": "8319a2d8-c4d9-4f94-b53f-c214e74a1419",
   "metadata": {},
   "outputs": [],
   "source": []
  }
 ],
 "metadata": {
  "kernelspec": {
   "display_name": "MATLAB Kernel",
   "language": "matlab",
   "name": "jupyter_matlab_kernel"
  },
  "language_info": {
   "file_extension": ".m",
   "mimetype": "text/x-matlab",
   "name": "matlab"
  }
 },
 "nbformat": 4,
 "nbformat_minor": 5
}
