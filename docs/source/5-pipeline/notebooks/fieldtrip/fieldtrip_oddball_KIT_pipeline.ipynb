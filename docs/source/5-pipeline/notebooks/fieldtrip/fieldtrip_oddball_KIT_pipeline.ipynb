{
 "cells": [
  {
   "cell_type": "markdown",
   "id": "6a2d644b-3249-4737-8221-da2deabda1a2",
   "metadata": {
    "jupyter": {
     "is_executing": true
    }
   },
   "source": [
    "Fieldtrip: KIT oddball analysis with source localization using beamformer\n",
    "=========================================================================\n",
    "\n",
    "Lead authors: Hadi Zaatiti hadi.zaatiti@nyu.edu, Osama Abdullah, osama.abdullah@nyu.edu\n",
    "\n",
    "This notebook is to be run in MATLAB, while having fieldtrip library installed.\n",
    "It is a pipeline for processing the `oddball` experiment raw data acquired from KIT-MEG system at NYUAD, run frequency analysis in source space, source localization using Beamformer technique.\n",
    "The `oddball` code experiment in Psychtoolbox can be found here:\n",
    "\n",
    "[Oddball experiment page](https://meg-pipeline.readthedocs.io/en/latest/3-experimentdesign/experiments/6-exp-sound.html)\n",
    "\n",
    "[Oddball PsychToolBox code for KIT system](https://github.com/hzaatiti-NYU/meg-pipeline/blob/bc99896a4e271b902282b1432c12e338060f4fa0/experiments/psychtoolbox/sound/oddball/run_oddball_KIT.m)"
   ]
  },
  {
   "cell_type": "markdown",
   "id": "9abbc62f-f227-4f1c-b29a-b0a316442ad0",
   "metadata": {},
   "source": [
    "Importing data and preprocessing\n",
    "--------------------------------\n",
    "The data used in this notebook is hosted on `NYU BOX`. Permissions are given upon request.\n",
    "\n",
    "- Install the BOX app from [here](https://www.box.com/resources/downloads)\n",
    "- Set an environment variable with name `MEG_DATA` to the path of the Data folder e.g.,\n",
    "    - `C:\\Users\\user_name\\Box\\MEG\\Data`\n",
    "    - or `C:\\Users\\user_name\\Box\\Data`\n",
    "\n",
    "Each experiment run using the KIT system generates a `.con` and several `.mrk`. Find more details about these files in the other chapters.\n",
    "In the following setup the variables pointing to your data, headshape and MRI scan."
   ]
  },
  {
   "cell_type": "code",
   "execution_count": 1,
   "id": "e3c19093-d8f5-4759-b7e0-0b2b628850e1",
   "metadata": {},
   "outputs": [],
   "source": [
    "% Read the environment variable to NYU BOX\n",
    "MEG_DATA_FOLDER = getenv('MEG_DATA');\n",
    "\n",
    "% Set path to KIT .con file of sub-03\n",
    "DATASET_PATH = [MEG_DATA_FOLDER,'oddball\\sub-03\\meg-kit\\sub-03-raw-kit.con'];\n",
    "\n",
    "% Set path to computed .mat variables, these has been obtained by executing this pipeline and \n",
    "% will allow you to skip steps if you wish to execute a particular cell\n",
    "LOAD_PATH = [MEG_DATA_FOLDER, 'oddball\\derivatives\\kit_oddball_pipeline\\sub-03\\'];\n",
    "\n",
    "% Experiment your own test and save your variables in a folder of your choice, choose the folder where to save your variables\n",
    "% We will also use it to copy variables from LOAD_PATH and use them in the notebook if needed\n",
    "SAVE_PATH = 'docs\\source\\5-pipeline\\notebooks\\fieldtrip\\fieldtrip_oddball_kit_data\\';\n",
    "\n",
    "% It is important that you use T1.mgz instead of orig.mgz as T1.mgz is normalized to [255,255,255] dimension\n",
    "MRI_FILE         = fullfile([MEG_DATA_FOLDER,'oddball\\sub-03\\anat\\sub-003\\sub-003\\mri\\T1.mgz']);\n",
    " \n",
    "laser_surf      = fullfile([MEG_DATA_FOLDER,'oddball\\sub-03\\anat\\digitized-headshape\\sub-03-basic-surface.txt']);\n",
    "%The cleaned stylus points removes the last three columns (dx, dx, dz) and\n",
    "%keeps only x,y,z\n",
    "laser_points    = [MEG_DATA_FOLDER, 'oddball\\sub-03\\anat\\digitized-headshape\\sub-03-stylus-cleaned.txt'];\n",
    "mrkfile1        = [MEG_DATA_FOLDER,'oddball\\sub-03\\meg-kit\\240524-1.mrk'];\n",
    "mrkfile2        = [MEG_DATA_FOLDER, 'oddball\\sub-03\\meg-kit\\240524-2.mrk'];\n",
    "\n",
    "try\n",
    "    cd(SAVE_PATH)\n",
    "catch\n",
    "end"
   ]
  },
  {
   "cell_type": "markdown",
   "id": "1048657d-2e20-43b1-8095-f548494af4f4",
   "metadata": {},
   "source": [
    "Read the digitized headshape and stylus points.\n",
    "More information on those in other chapters of the documentation.\n",
    "The `read_head_shape_laser` function can be found in `pipeline/field_trip_pipelines/matlab_functions`. You can add it to your MATLAB path."
   ]
  },
  {
   "cell_type": "code",
   "execution_count": 2,
   "id": "12945bab-128e-42f5-8b36-6d997e1b81d1",
   "metadata": {},
   "outputs": [
    {
     "data": {
      "text/html": [
       "<html><body><pre>shape = struct with fields:\n",
       "      pos: [1681x3 double]\n",
       "      fid: [1x1 struct]\n",
       "    label: []\n",
       "</pre></body></html>"
      ],
      "text/plain": [
       "shape = struct with fields:\n",
       "      pos: [1681x3 double]\n",
       "      fid: [1x1 struct]\n",
       "    label: []\n"
      ]
     },
     "execution_count": 2,
     "metadata": {},
     "output_type": "execute_result"
    }
   ],
   "source": [
    "lasershape   = read_head_shape_laser(laser_surf,laser_points);"
   ]
  },
  {
   "cell_type": "code",
   "execution_count": 3,
   "id": "70ed1c93-8465-491e-b61d-f5e6665ff25d",
   "metadata": {},
   "outputs": [],
   "source": [
    "lasershape   = ft_convert_units(lasershape, 'mm');"
   ]
  },
  {
   "cell_type": "markdown",
   "id": "96b2195b-5a73-4d16-8381-899bf2fa7e38",
   "metadata": {},
   "source": [
    "Plot initial digitized headshape."
   ]
  },
  {
   "cell_type": "code",
   "execution_count": 4,
   "id": "80834384-8f44-4bdc-b808-47f0046779c4",
   "metadata": {},
   "outputs": [
    {
     "data": {
      "image/png": "[encoded data removed]"
     },
     "execution_count": 4,
     "metadata": {},
     "output_type": "execute_result"
    },
    {
     "name": "stdout",
     "output_type": "stream",
     "text": [
      "The axes are 150 mm long in each direction\n",
      "The diameter of the sphere at the origin is 10 mm\n"
     ]
    },
    {
     "data": {
      "text/html": [
       "<html><body><pre>ans = struct with fields:\n",
       "      pos: [1681x3 double]\n",
       "      fid: [1x1 struct]\n",
       "    label: []\n",
       "     unit: 'mm'\n",
       "</pre></body></html>"
      ],
      "text/plain": [
       "ans = struct with fields:\n",
       "      pos: [1681x3 double]\n",
       "      fid: [1x1 struct]\n",
       "    label: []\n",
       "     unit: 'mm'\n"
      ]
     },
     "execution_count": 4,
     "metadata": {},
     "output_type": "execute_result"
    }
   ],
   "source": [
    "ft_determine_coordsys(lasershape, 'interactive', 'no')"
   ]
  },
  {
   "cell_type": "markdown",
   "id": "1b50b97d-6ad1-4b17-881a-342d152ecede",
   "metadata": {},
   "source": [
    "Let us now define a coordinate system for the digitized headshape based on the known fiducials from the laser_shape.\n",
    "CTF is an ALS coordinate system meaning:\n",
    "- the X-coordinate axis points to A (Anterior)\n",
    "- the Y-coordinate axis points to L (Left)\n",
    "- the Z-coordinate axis points to S (Superior)\n",
    "\n",
    "The first, 4th and 5th fiducials in the stylus points correspond to Nasion, Left Ear and Right Ear.\n",
    "More information on digitized headshape fiducials is found [here.](https://meg-pipeline.readthedocs.io/en/latest/2-operationprotocol/operationprotocol.html)\n",
    "Define the transformation as follows:"
   ]
  },
  {
   "cell_type": "code",
   "execution_count": 5,
   "id": "e467031a-f159-4897-b5ce-629d676166ba",
   "metadata": {},
   "outputs": [],
   "source": [
    "laser2ctf = ft_headcoordinates(lasershape.fid.pos(1,:),lasershape.fid.pos(4,:),lasershape.fid.pos(5,:),'ctf');"
   ]
  },
  {
   "cell_type": "markdown",
   "id": "72878d78-cfdf-4c9e-9c40-ea1dc30be856",
   "metadata": {},
   "source": [
    "Apply the transformation to the digitized headshape."
   ]
  },
  {
   "cell_type": "code",
   "execution_count": 6,
   "id": "8e64f3b5-1bc6-4e20-928d-b6c202fb690a",
   "metadata": {},
   "outputs": [
    {
     "data": {
      "text/html": [
       "<html><body><pre>lasershape = struct with fields:\n",
       "      pos: [1681x3 double]\n",
       "      fid: [1x1 struct]\n",
       "    label: []\n",
       "     unit: 'mm'\n",
       "</pre></body></html>"
      ],
      "text/plain": [
       "lasershape = struct with fields:\n",
       "      pos: [1681x3 double]\n",
       "      fid: [1x1 struct]\n",
       "    label: []\n",
       "     unit: 'mm'\n"
      ]
     },
     "execution_count": 6,
     "metadata": {},
     "output_type": "execute_result"
    }
   ],
   "source": [
    "lasershape = ft_transform_geometry(laser2ctf, lasershape)"
   ]
  },
  {
   "cell_type": "markdown",
   "id": "17619865-fbe5-4cea-aa16-501babbc8c7a",
   "metadata": {},
   "source": [
    "Plot to verify the new coordinate system and ensure that the new coordinate system is indeed CTF."
   ]
  },
  {
   "cell_type": "code",
   "execution_count": 7,
   "id": "06de4e88-3bdd-41ef-9e03-068a34713d03",
   "metadata": {},
   "outputs": [
    {
     "data": {
      "image/png": "[encoded data removed]"
     },
     "execution_count": 7,
     "metadata": {},
     "output_type": "execute_result"
    },
    {
     "name": "stdout",
     "output_type": "stream",
     "text": [
      "The axes are 150 mm long in each direction\n",
      "The diameter of the sphere at the origin is 10 mm\n"
     ]
    },
    {
     "data": {
      "text/html": [
       "<html><body><pre>ans = <a href=\"matlab:helpPopup('struct')\" class=\"headerDataType\">struct</a> with fields:\n",
       "      pos: [1681x3 double]\n",
       "      fid: [1x1 struct]\n",
       "    label: []\n",
       "     unit: 'mm'\n",
       "</pre></body></html>"
      ],
      "text/plain": [
       "ans = <a href=\"matlab:helpPopup('struct')\" class=\"headerDataType\">struct</a> with fields:\n",
       "      pos: [1681x3 double]\n",
       "      fid: [1x1 struct]\n",
       "    label: []\n",
       "     unit: 'mm'\n"
      ]
     },
     "execution_count": 7,
     "metadata": {},
     "output_type": "execute_result"
    }
   ],
   "source": [
    "ft_determine_coordsys(lasershape, 'interactive', 'no')"
   ]
  },
  {
   "cell_type": "markdown",
   "id": "26a75654-4797-4914-912e-d07638edf661",
   "metadata": {},
   "source": [
    "Apply a z-plane cut to remove unncessary points from digitized-headshape under a certain z-value."
   ]
  },
  {
   "cell_type": "code",
   "execution_count": 8,
   "id": "a532bdb7-f08c-4dfa-953d-879e48cde350",
   "metadata": {},
   "outputs": [
    {
     "name": "stdout",
     "output_type": "stream",
     "text": [
      "-------------------------------------------------------------------------------------------\n",
      "FieldTrip is developed by members and collaborators of the Donders Institute for Brain,\n",
      "Cognition and Behaviour at Radboud University, Nijmegen, the Netherlands.\n",
      "\n",
      "                          --------------------------\n",
      "                        /                            \\\n",
      "                     ------------------------------------\n",
      "                    /                                    \\\n",
      "          -------------------------------------------------\n",
      "         /                            /\\/\\/\\/\\/\\ \n",
      "         ---------------------------------------------------\n",
      "                  |        F  i  e  l  d  T  r  i  p       |\n",
      "                  ------------------------------------------\n",
      "                   \\                                      /\n",
      "                     ------------------------------------\n",
      "                          \\            /\n",
      "                            ----------\n",
      "\n",
      "Please cite the FieldTrip reference paper when you have used FieldTrip in your study.\n",
      "Robert Oostenveld, Pascal Fries, Eric Maris, and Jan-Mathijs Schoffelen. FieldTrip: Open\n",
      "Source Software for Advanced Analysis of MEG, EEG, and Invasive Electrophysiological Data.\n",
      "Computational Intelligence and Neuroscience, vol. 2011, Article ID 156869, 9 pages, 2011.\n",
      "doi:10.1155/2011/156869.\n",
      "-------------------------------------------------------------------------------------------\n",
      "Use the mouse to rotate the geometry, and click \"redisplay\" to update the light.\n",
      "Close the figure when you are done.\n",
      "the template coordinate system is unknown, selecting the viewpoint is not possible\n",
      "The axes are 150 mm long in each direction\n",
      "The diameter of the sphere at the origin is 10 mm\n",
      "\n",
      "==================================================================================\n",
      "Press \"h\" to show this help.\n",
      "Press \"q\" or close the window when you are done.\n",
      "Press \"v\" to update the light position.\n",
      "the call to \"ft_interactiverealign\" took 5 seconds\n"
     ]
    },
    {
     "data": {
      "text/html": [
       "<html><body><pre>ans = logical\n",
       "   1\n",
       "</pre></body></html>"
      ],
      "text/plain": [
       "ans = logical\n",
       "   1\n"
      ]
     },
     "execution_count": 8,
     "metadata": {},
     "output_type": "execute_result"
    },
    {
     "data": {
      "text/html": [
       "<html><body><pre>ans = logical\n",
       "   1\n",
       "</pre></body></html>"
      ],
      "text/plain": [
       "ans = logical\n",
       "   1\n"
      ]
     },
     "execution_count": 8,
     "metadata": {},
     "output_type": "execute_result"
    },
    {
     "name": "stdout",
     "output_type": "stream",
     "text": [
      "keeping 1251 and removing 430 vertices in the mesh\n",
      "the call to \"ft_defacemesh\" took 5 seconds\n"
     ]
    },
    {
     "data": {
      "image/png": "[encoded data removed]"
     },
     "execution_count": 8,
     "metadata": {},
     "output_type": "execute_result"
    },
    {
     "name": "stdout",
     "output_type": "stream",
     "text": [
      "The axes are 150 mm long in each direction\n",
      "The diameter of the sphere at the origin is 10 mm\n"
     ]
    },
    {
     "data": {
      "text/html": [
       "<html><body><pre>ans = struct with fields:\n",
       "      pos: [1251x3 double]\n",
       "      fid: [1x1 struct]\n",
       "    label: []\n",
       "     unit: 'mm'\n",
       "      cfg: [1x1 struct]\n",
       "</pre></body></html>"
      ],
      "text/plain": [
       "ans = struct with fields:\n",
       "      pos: [1251x3 double]\n",
       "      fid: [1x1 struct]\n",
       "    label: []\n",
       "     unit: 'mm'\n",
       "      cfg: [1x1 struct]\n"
      ]
     },
     "execution_count": 8,
     "metadata": {},
     "output_type": "execute_result"
    }
   ],
   "source": [
    "% Deface the laser mesh under a certain plan (change planecut) Define the configuration for ft_defacemesh\n",
    "planecut = -5;\n",
    "cfg = [];\n",
    "cfg.method    = 'plane';       % Use a plane for exclusion\n",
    "cfg.translate = [0 0 planecut]; % A point on the plane (adjust z_value as needed)\n",
    "cfg.rotate    = [0 0 0];       % Rotation vector, modify if the plane is not axis-aligned\n",
    "cfg.selection = 'outside';     % Remove points below the plane\n",
    "\n",
    "% Apply ft_defacemesh to remove points below the plane\n",
    "mesh = ft_defacemesh(cfg, lasershape);\n",
    "\n",
    "% Plot the resulting mesh to check the results\n",
    "figure\n",
    "ft_determine_coordsys(mesh, 'interactive', 'no')"
   ]
  },
  {
   "cell_type": "markdown",
   "id": "01f36b79-4f96-4db0-a4ec-6566b3d00770",
   "metadata": {},
   "source": [
    "When you are happy with the result set your lasershape as the defaced mesh."
   ]
  },
  {
   "cell_type": "code",
   "execution_count": 9,
   "id": "4c5e6aa4-0beb-4b04-8e05-3c05b613dd2c",
   "metadata": {},
   "outputs": [
    {
     "data": {
      "text/html": [
       "<html><body><pre>lasershape = struct with fields:\n",
       "      pos: [1251x3 double]\n",
       "      fid: [1x1 struct]\n",
       "    label: []\n",
       "     unit: 'mm'\n",
       "      cfg: [1x1 struct]\n",
       "</pre></body></html>"
      ],
      "text/plain": [
       "lasershape = struct with fields:\n",
       "      pos: [1251x3 double]\n",
       "      fid: [1x1 struct]\n",
       "    label: []\n",
       "     unit: 'mm'\n",
       "      cfg: [1x1 struct]\n"
      ]
     },
     "execution_count": 9,
     "metadata": {},
     "output_type": "execute_result"
    }
   ],
   "source": [
    "lasershape = mesh"
   ]
  },
  {
   "cell_type": "markdown",
   "id": "e8d29376-e8f5-4aa4-8042-229d64335982",
   "metadata": {},
   "source": [
    "Read subjets MRI T1w scan."
   ]
  },
  {
   "cell_type": "code",
   "execution_count": 10,
   "id": "2686e8c3-188a-4a36-8126-6a20e717ed13",
   "metadata": {},
   "outputs": [
    {
     "name": "stdout",
     "output_type": "stream",
     "text": [
      "extracting compressed dataset to C:\\Users\\hz3752\\AppData\\Local\\Temp\\x2001df3da49bb0c143cbbaaf3ffbe706\\...\n",
      "extracted dataset is located at C:\\Users\\hz3752\\AppData\\Local\\Temp\\x2001df3da49bb0c143cbbaaf3ffbe706\\T1\n"
     ]
    },
    {
     "name": "stderr",
     "output_type": "stream",
     "text": [
      "Warning: adding C:\\Users\\hz3752\\Documents\\fieldtrip\\external\\freesurfer toolbox to your MATLAB path"
     ]
    }
   ],
   "source": [
    "%% read mri and mri-headshape\n",
    "mri = ft_read_mri(MRI_FILE); % read mri file\n",
    "MRI_FILE = ft_convert_units(mri, 'mm'); %make sure units mm"
   ]
  },
  {
   "cell_type": "markdown",
   "id": "2a13b3bd-2ab9-47eb-9076-75c48f790903",
   "metadata": {},
   "source": [
    "Inspect visually the MRI."
   ]
  },
  {
   "cell_type": "code",
   "execution_count": 11,
   "id": "7d11cf3b-adcc-4041-8b5d-94446b213c36",
   "metadata": {},
   "outputs": [
    {
     "data": {
      "image/png": "[encoded data removed]"
     },
     "execution_count": 11,
     "metadata": {},
     "output_type": "execute_result"
    },
    {
     "name": "stdout",
     "output_type": "stream",
     "text": [
      "The axes are 150 mm long in each direction\n",
      "The diameter of the sphere at the origin is 10 mm\n"
     ]
    }
   ],
   "source": [
    "mri = ft_determine_coordsys(mri, 'interactive', 'no');"
   ]
  },
  {
   "cell_type": "code",
   "execution_count": 12,
   "id": "76d3499d-4f75-4eaf-befe-2325939bcdbf",
   "metadata": {},
   "outputs": [
    {
     "name": "stdout",
     "output_type": "stream",
     "text": [
      "the input is volume data with dimensions [256 256 256]\n",
      "voxel size along 1st dimension (i) : 1.000000 mm\n",
      "voxel size along 2nd dimension (j) : 1.000000 mm\n",
      "voxel size along 3rd dimension (k) : 1.000000 mm\n",
      "volume per voxel                   : 1.000000 mm^3\n",
      "the input is volume data with dimensions [256 256 256]\n",
      "voxel size along 1st dimension (i) : 1.000000 mm\n",
      "voxel size along 2nd dimension (j) : 1.000000 mm\n",
      "voxel size along 3rd dimension (k) : 1.000000 mm\n",
      "volume per voxel                   : 1.000000 mm^3\n",
      "flipped the volume to make it consistent with the axes of the coordinate system\n",
      "==================================================================================\n",
      "0. Press \"h\" to show this help\n",
      "1. To change the slice viewed in one plane, either:\n",
      "   a. click (left mouse) in the image on a different plane. Eg, to view a more\n",
      "      superior slice in the horizontal plane, click on a superior position in the\n",
      "      coronal plane, or\n",
      "   b. use the arrow keys to increase or decrease the slice number by one\n",
      "2. To mark a fiducial position or anatomical landmark, do BOTH:\n",
      "   a. select the position by clicking on it in any slice with the left mouse button\n",
      "   b. identify it by pressing the letter corresponding to the fiducial/landmark:\n",
      "      press n for nas, l for lpa, r for rpa\n",
      "      press z for an extra control point that should have a positive z-value\n",
      "   You can mark the fiducials repeatedly, until you are satisfied with the positions.\n",
      "3. To change the display:\n",
      "   a. press c on keyboard to toggle crosshair visibility\n",
      "   b. press f on keyboard to toggle fiducial visibility\n",
      "   c. press + or - on (numeric) keyboard to change the contrast\n",
      "4. To finalize markers and quit interactive mode, press q on keyboard\n"
     ]
    },
    {
     "name": "stderr",
     "output_type": "stream",
     "text": [
      "Warning: the input coordinate system seems left-handed, flipping z-axis to keep the transformation matrix consistent"
     ]
    },
    {
     "name": "stdout",
     "output_type": "stream",
     "text": [
      " In 'C:\\Users\\hz3752\\Documents\\fieldtrip\\utilities\\ft_headcoordinates.m' at line 233\n",
      " In 'C:\\Users\\hz3752\\Documents\\fieldtrip\\ft_volumerealign.m' at line 1044\n",
      "\n",
      "the call to \"ft_volumerealign\" took 111 seconds\n"
     ]
    },
    {
     "data": {
      "text/html": [
       "<html><body><pre>mri_init = struct with fields:\n",
       "              dim: [256 256 256]\n",
       "          anatomy: [256x256x256 double]\n",
       "              hdr: [1x1 struct]\n",
       "        transform: [4x4 double]\n",
       "             unit: 'mm'\n",
       "              cfg: [1x1 struct]\n",
       "    transformorig: [4x4 double]\n",
       "         coordsys: 'ctf'\n",
       "</pre></body></html>"
      ],
      "text/plain": [
       "mri_init = struct with fields:\n",
       "              dim: [256 256 256]\n",
       "          anatomy: [256x256x256 double]\n",
       "              hdr: [1x1 struct]\n",
       "        transform: [4x4 double]\n",
       "             unit: 'mm'\n",
       "              cfg: [1x1 struct]\n",
       "    transformorig: [4x4 double]\n",
       "         coordsys: 'ctf'\n"
      ]
     },
     "execution_count": 12,
     "metadata": {},
     "output_type": "execute_result"
    },
    {
     "name": "stdout",
     "output_type": "stream",
     "text": [
      "The positive x-axis is pointing towards anterior\n",
      "The positive y-axis is pointing towards the left\n",
      "The positive z-axis is pointing towards superior\n"
     ]
    },
    {
     "data": {
      "image/png": "[encoded data removed]"
     },
     "execution_count": 12,
     "metadata": {},
     "output_type": "execute_result"
    },
    {
     "name": "stdout",
     "output_type": "stream",
     "text": [
      "The axes are 150 mm long in each direction\n",
      "The diameter of the sphere at the origin is 10 mm\n"
     ]
    }
   ],
   "source": [
    "cfg             = [];\n",
    "cfg.method      = 'interactive';\n",
    "cfg.coordsys    = 'ctf'; %use CTF coordinates (pos x toward nose, +y to left)\n",
    "mri_init = ft_volumerealign(cfg,mri)\n",
    "ft_determine_coordsys(mri_init, 'interactive', 'no'); % sanity check, should be CTF\n",
    "\n",
    "save mri_init mri_init"
   ]
  },
  {
   "cell_type": "markdown",
   "id": "be78e25c-3c34-4c7f-bf86-baddd5857e7e",
   "metadata": {},
   "source": [
    "The MRI data is now in the CTF coordinate system (based on ALS)."
   ]
  },
  {
   "cell_type": "code",
   "execution_count": null,
   "id": "5a422785-c709-417b-a2af-f8b4d98fbc18",
   "metadata": {},
   "outputs": [],
   "source": [
    "load mri_init mri_init"
   ]
  },
  {
   "cell_type": "code",
   "execution_count": null,
   "id": "ba870a6d-730c-4320-8d8c-ce5463c0a05e",
   "metadata": {},
   "outputs": [],
   "source": [
    "Now we would like to coregister the sensors with the digitized headshape.\n",
    "Each `.mrk` file holds the positions of five points obtained from HPI coils that had been placed on the participants head in specific locations.\n",
    "Read more about the positions of the points in https://meg-pipeline.readthedocs.io/en/latest/2-operationprotocol/operationprotocol.html\n",
    "\n",
    "The order in which they appear in a `.mrk` are the following:\n",
    "\n"
   ]
  },
  {
   "cell_type": "code",
   "execution_count": 50,
   "id": "905abae1-2f00-487e-a470-ebdd83e25f47",
   "metadata": {},
   "outputs": [
    {
     "name": "stdout",
     "output_type": "stream",
     "text": [
      "The input file is an original one: only marker-coil positions are loaded\n",
      "The input file is an original one: only marker-coil positions are loaded\n"
     ]
    }
   ],
   "source": [
    "%% Align MEG Dewar to Laser scan Head model\n",
    "% now we want to align the 3 markers in the *.con file with the 3 markers\n",
    "% in the lasershape, where 1:5 markers match to the 4:9 lasershape\n",
    "% fiducials\n",
    "mrk1 = ft_read_headshape(mrkfile1);\n",
    "mrk1 = ft_convert_units(mrk1, lasershape.unit);\n",
    "mrk2 = ft_read_headshape(mrkfile2);\n",
    "mrk2 = ft_convert_units(mrk2, lasershape.unit);"
   ]
  },
  {
   "cell_type": "markdown",
   "id": "45472020-d935-4dc6-a94c-72deb3e8c8a5",
   "metadata": {},
   "source": [
    "mrk1 has been recorded prior to the experiment and mrk2 just after the end.\n",
    "Compute the average positions of the five points over both time points."
   ]
  },
  {
   "cell_type": "code",
   "execution_count": 51,
   "id": "b4b1ec36-7433-45eb-9242-c9c1f93b6650",
   "metadata": {},
   "outputs": [],
   "source": [
    "% Define the average marker positions, mrk1 correspond to HPI coils at the\n",
    "% beginning and end of the experiment\n",
    "mrka = mrk1;\n",
    "mrka.fid.pos = (mrk1.fid.pos+mrk2.fid.pos)/2;"
   ]
  },
  {
   "cell_type": "code",
   "execution_count": 76,
   "id": "279fd8d2-d5a7-4a07-83bd-6e44e2e9f432",
   "metadata": {},
   "outputs": [],
   "source": [
    "% pcoils holds all the marker points \n",
    "p_coils = mrka.fid.pos(1:5,:);\n",
    "p_headscan = lasershape.fid.pos;"
   ]
  },
  {
   "cell_type": "markdown",
   "id": "b7d59548-41e7-4edf-94c3-d0c82c6945ed",
   "metadata": {},
   "source": [
    "Plot points"
   ]
  },
  {
   "cell_type": "code",
   "execution_count": 53,
   "id": "e242bb38-5348-472f-bdbb-be8a2c79f88a",
   "metadata": {},
   "outputs": [],
   "source": [
    "t1 = ft_headcoordinates(p_coils(1,:), p_coils(2,:), p_coils(3,:), 'ctf');%J p_coils(1,:) is not exactly the nasion, so do not interpret the X-axis as going through the nasion\n",
    "t2 = ft_headcoordinates(p_headscan(6,:), p_headscan(4,:), p_headscan(5,:), 'ctf');%J"
   ]
  },
  {
   "cell_type": "code",
   "execution_count": 54,
   "id": "5cca7fd3-b369-41ab-9f10-d85d85c2af56",
   "metadata": {},
   "outputs": [],
   "source": [
    "% t2\\t1 is interpreted as the transformation t that, if you apply t to a\n",
    "% point, then you apply t1 on the resulting point, becomes as if you\n",
    "% applied t2 on that point, this means the composition t1(t(point)) = t2\n",
    "\n",
    "transform_mrk2laser = t2\\t1;\n",
    "% p1t = ft_warp_apply(transform_mrk2laser, p1)\n",
    "\n",
    "grad = ft_read_sens(DATASET_PATH,'senstype','meg');\n",
    "grad = ft_convert_units(grad,'mm');\n",
    "grad = ft_transform_geometry(transform_mrk2laser, grad);\n",
    "\n",
    "\n",
    "save grad grad"
   ]
  },
  {
   "cell_type": "markdown",
   "id": "a10e3a89-40b4-4dec-9c81-4ee76d79226d",
   "metadata": {},
   "source": [
    "At this point, we have coregistered the sensors locations with the digitized headshape.\n",
    "We computed the transformation from sensor space to digitized headshape space knowing which points from the HPI coils should match which stylus points from the laser scan.\n",
    "Then, this transformation was applied to the sensors.\n",
    "As a sanity check, lets plot the sensors, headshape, HPI coils locations and the stylus points.\n",
    "`ft_transform_geometry` does not allow us to apply the transformation to the HPI_coils position themselves, we will need to apply the transformation differently.\n",
    "We propose two ways below"
   ]
  },
  {
   "cell_type": "code",
   "execution_count": 77,
   "id": "29ac4ba3-59d2-4c6a-bae1-ff7862d0b2ce",
   "metadata": {},
   "outputs": [
    {
     "name": "stdout",
     "output_type": "stream",
     "text": [
      "Rotation matrix:\n",
      "    0.9602   -0.0355    0.2771\n",
      "    0.0384    0.9993   -0.0051\n",
      "   -0.2767    0.0155    0.9608\n",
      "\n",
      "Translation vector:\n",
      "   16.7548\n",
      "   -5.3949\n",
      "   42.4524\n",
      "\n"
     ]
    }
   ],
   "source": [
    "% Extract the first 3x3 submatrix corresponding to the rotation matrix\n",
    "rotation_matrix = transform_mrk2laser(1:3, 1:3);\n",
    "\n",
    "% Extract the translation vector corresponding to the last column and removing the last element\n",
    "translation_vector = transform_mrk2laser(1:3, 4);\n",
    "\n",
    "% Display the results\n",
    "disp('Rotation matrix:');\n",
    "disp(rotation_matrix);\n",
    "\n",
    "disp('Translation vector:');\n",
    "disp(translation_vector);"
   ]
  },
  {
   "cell_type": "code",
   "execution_count": 78,
   "id": "2532e9c6-9853-4f7c-aa9d-25c8b0e4b288",
   "metadata": {},
   "outputs": [
    {
     "data": {
      "text/html": [
       "<html><body><pre>p_coils_t = 3x5 double\n",
       "  104.4093   -1.9115    1.9115   87.3524   97.7621\n",
       "    4.7914   74.7645  -74.7645   41.7716  -27.7891\n",
       "   21.3170   -0.5097    0.5097   24.0880   25.6129\n",
       "</pre></body></html>"
      ],
      "text/plain": [
       "p_coils_t = 3x5 double\n",
       "  104.4093   -1.9115    1.9115   87.3524   97.7621\n",
       "    4.7914   74.7645  -74.7645   41.7716  -27.7891\n",
       "   21.3170   -0.5097    0.5097   24.0880   25.6129\n"
      ]
     },
     "execution_count": 78,
     "metadata": {},
     "output_type": "execute_result"
    }
   ],
   "source": [
    "% Apply the transformation to the transpose of p_coils\n",
    "\n",
    "p_coils_t = rotation_matrix*p_coils'+ translation_vector"
   ]
  },
  {
   "cell_type": "code",
   "execution_count": 82,
   "id": "c003ec2e-7545-4ab9-abe4-75845d3c9646",
   "metadata": {},
   "outputs": [
    {
     "data": {
      "text/html": [
       "<html><body><pre>p_coils = 5x3 double\n",
       "  104.4093    4.7914   21.3170\n",
       "   -1.9115   74.7645   -0.5097\n",
       "    1.9115  -74.7645    0.5097\n",
       "   87.3524   41.7716   24.0880\n",
       "   97.7621  -27.7891   25.6129\n",
       "</pre></body></html>"
      ],
      "text/plain": [
       "p_coils = 5x3 double\n",
       "  104.4093    4.7914   21.3170\n",
       "   -1.9115   74.7645   -0.5097\n",
       "    1.9115  -74.7645    0.5097\n",
       "   87.3524   41.7716   24.0880\n",
       "   97.7621  -27.7891   25.6129\n"
      ]
     },
     "execution_count": 82,
     "metadata": {},
     "output_type": "execute_result"
    }
   ],
   "source": [
    "% Set back the positions of the p_coils to the transformed coordinates\n",
    "p_coils = p_coils_t'"
   ]
  },
  {
   "cell_type": "code",
   "execution_count": 83,
   "id": "5705989c-26ec-4120-9a9b-194326f8a0c6",
   "metadata": {},
   "outputs": [
    {
     "data": {
      "image/png": "[encoded data removed]"
     },
     "execution_count": 83,
     "metadata": {},
     "output_type": "execute_result"
    }
   ],
   "source": [
    "figure\n",
    "ft_plot_headshape(lasershape)\n",
    "ft_plot_sens(grad)\n",
    "hold on\n",
    "plot3(p_coils(:,1), p_coils(:,2), p_coils(:,3), 'bo', 'MarkerSize', 10, 'MarkerFaceColor', 'b', 'LineStyle', 'none')\n",
    "%plot3(p_headscan(:,1), p_headscan(:,2), p_headscan(:,3), 'bo', 'MarkerSize', 10, 'MarkerFaceColor', 'b', 'LineStyle', 'none')\n",
    "view([50 20])\n",
    "hold on"
   ]
  },
  {
   "cell_type": "code",
   "execution_count": null,
   "id": "f4f1dd2e-ecf2-4c4f-a0d3-1a700819c1f9",
   "metadata": {},
   "outputs": [],
   "source": [
    "Another way is to use what is described here: https://www.fieldtriptoolbox.org/faq/homogenous/\n",
    "\n"
   ]
  },
  {
   "cell_type": "code",
   "execution_count": 70,
   "id": "89ddac8d-f440-436c-80c9-884a65f136a8",
   "metadata": {},
   "outputs": [
    {
     "name": "stdout",
     "output_type": "stream",
     "text": [
      "Original p_coils:\n",
      "   90.4042    6.7430    3.9254\n",
      "   -2.9621   80.0952  -46.8581\n",
      "   -5.3097  -69.4416  -44.0606\n",
      "   74.6782   44.3433    1.6745\n",
      "   81.5830  -25.5108    6.3767\n",
      "\n",
      "p_coils with ones added and transposed:\n",
      "   90.4042   -2.9621   -5.3097   74.6782   81.5830\n",
      "    6.7430   80.0952  -69.4416   44.3433  -25.5108\n",
      "    3.9254  -46.8581  -44.0606    1.6745    6.3767\n",
      "    1.0000    1.0000    1.0000    1.0000    1.0000\n",
      "\n"
     ]
    }
   ],
   "source": [
    "% Assume p_coils is already defined\n",
    "\n",
    "p_coils = mrka.fid.pos(1:5,:);\n",
    "\n",
    "% Create a column vector of ones\n",
    "num_points = size(p_coils, 1);\n",
    "ones_column = ones(num_points, 1);\n",
    "\n",
    "% Concatenate the column of ones to p_coils\n",
    "p_coils_with_ones = [p_coils, ones_column];\n",
    "\n",
    "% Transpose the resulting matrix\n",
    "p_coils_transposed = p_coils_with_ones';\n",
    "\n",
    "% Display the result\n",
    "disp('Original p_coils:');\n",
    "disp(p_coils);\n",
    "\n",
    "disp('p_coils with ones added and transposed:');\n",
    "disp(p_coils_transposed);"
   ]
  },
  {
   "cell_type": "code",
   "execution_count": 71,
   "id": "dc7fb99a-013f-48d1-be20-31f79e59f0eb",
   "metadata": {},
   "outputs": [
    {
     "data": {
      "text/html": [
       "<html><body><pre>p_coils_t = 4x5 double\n",
       "  104.4093   -1.9115    1.9115   87.3524   97.7621\n",
       "    4.7914   74.7645  -74.7645   41.7716  -27.7891\n",
       "   21.3170   -0.5097    0.5097   24.0880   25.6129\n",
       "    1.0000    1.0000    1.0000    1.0000    1.0000\n",
       "</pre></body></html>"
      ],
      "text/plain": [
       "p_coils_t = 4x5 double\n",
       "  104.4093   -1.9115    1.9115   87.3524   97.7621\n",
       "    4.7914   74.7645  -74.7645   41.7716  -27.7891\n",
       "   21.3170   -0.5097    0.5097   24.0880   25.6129\n",
       "    1.0000    1.0000    1.0000    1.0000    1.0000\n"
      ]
     },
     "execution_count": 71,
     "metadata": {},
     "output_type": "execute_result"
    }
   ],
   "source": [
    "p_coils_t = transform_mrk2laser * p_coils_transposed\n"
   ]
  },
  {
   "cell_type": "code",
   "execution_count": 72,
   "id": "30e0ba57-9b26-4690-8af9-bf1177401e35",
   "metadata": {},
   "outputs": [
    {
     "data": {
      "text/html": [
       "<html><body><pre>p_coils = 5x4 double\n",
       "  104.4093    4.7914   21.3170    1.0000\n",
       "   -1.9115   74.7645   -0.5097    1.0000\n",
       "    1.9115  -74.7645    0.5097    1.0000\n",
       "   87.3524   41.7716   24.0880    1.0000\n",
       "   97.7621  -27.7891   25.6129    1.0000\n",
       "</pre></body></html>"
      ],
      "text/plain": [
       "p_coils = 5x4 double\n",
       "  104.4093    4.7914   21.3170    1.0000\n",
       "   -1.9115   74.7645   -0.5097    1.0000\n",
       "    1.9115  -74.7645    0.5097    1.0000\n",
       "   87.3524   41.7716   24.0880    1.0000\n",
       "   97.7621  -27.7891   25.6129    1.0000\n"
      ]
     },
     "execution_count": 72,
     "metadata": {},
     "output_type": "execute_result"
    }
   ],
   "source": [
    "p_coils = p_coils_t'"
   ]
  },
  {
   "cell_type": "code",
   "execution_count": 73,
   "id": "48035212-4a3a-4582-b63c-fc778392ca02",
   "metadata": {},
   "outputs": [
    {
     "data": {
      "image/png": "[encoded data removed]"
     },
     "execution_count": 73,
     "metadata": {},
     "output_type": "execute_result"
    }
   ],
   "source": [
    "figure\n",
    "ft_plot_headshape(lasershape)\n",
    "ft_plot_sens(grad)\n",
    "hold on\n",
    "plot3(p_coils(:,1), p_coils(:,2), p_coils(:,3), 'bo', 'MarkerSize', 10, 'MarkerFaceColor', 'b', 'LineStyle', 'none')\n",
    "%plot3(p_headscan(:,1), p_headscan(:,2), p_headscan(:,3), 'bo', 'MarkerSize', 10, 'MarkerFaceColor', 'b', 'LineStyle', 'none')\n",
    "view([50 20])"
   ]
  },
  {
   "cell_type": "code",
   "execution_count": null,
   "id": "964ca678-9fe9-4460-a412-4db49ff9b4d7",
   "metadata": {},
   "outputs": [],
   "source": [
    "Let us view display the order of appearence of each label"
   ]
  },
  {
   "cell_type": "code",
   "execution_count": null,
   "id": "52d9a079-061b-4ed6-a79e-251902b2b87f",
   "metadata": {},
   "outputs": [],
   "source": [
    "Let us measure the relative error"
   ]
  }
 ],
 "metadata": {
  "kernelspec": {
   "display_name": "MATLAB Kernel",
   "language": "matlab",
   "name": "jupyter_matlab_kernel"
  },
  "language_info": {
   "file_extension": ".m",
   "mimetype": "text/x-matlab",
   "name": "matlab"
  }
 },
 "nbformat": 4,
 "nbformat_minor": 5
}
