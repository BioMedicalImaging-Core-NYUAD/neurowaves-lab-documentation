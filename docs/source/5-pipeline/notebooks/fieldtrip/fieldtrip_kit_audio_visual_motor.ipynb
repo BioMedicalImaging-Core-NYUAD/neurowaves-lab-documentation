{
 "cells": [
  {
   "metadata": {},
   "cell_type": "markdown",
   "source": [
    "Fieldtrip: Audio Vs Visual Vs Motor\n",
    "===================================\n",
    "\n",
    "Lead authors: Hadi Zaatiti <hadi.zaatiti@nyu.edu>\n",
    "\n",
    "- Description of experiment\n",
    "\n",
    "The `Audio vs Visual vs Motor` code experiment in `Psychtoolbox` can be found here:\n",
    "\n",
    "[Auditory vs Visual vs Motor](https://github.com/Hzaatiti/meg-pipeline/blob/main/experiments/psychtoolbox/auditory-vs-visual/auditory_vs_visual.m)"
   ],
   "id": "b98a93d8d92cfd"
  },
  {
   "metadata": {},
   "cell_type": "markdown",
   "source": [
    "Importing data \n",
    "--------------\n",
    "\n",
    "The data used in this notebook is hosted on `NYU BOX`. Permissions are given upon request.\n",
    "\n",
    "- Install the BOX app from [here](https://www.box.com/resources/downloads)\n",
    "- Set an environment variable with name `MEG_DATA` to the path of the Data folder e.g.,\n",
    "    - `C:\\Users\\user_name\\Box\\MEG\\Data`\n",
    "    - or `C:\\Users\\user_name\\Box\\Data\n",
    "\n",
    "\n",
    "MATLAB setup\n",
    "------------\n",
    "\n",
    "Make sure that:\n",
    "- Fieldtrip is installed in MATLAB\n",
    "- Add to MATLAB path the custom-made functions for NYUAD MEG lab found [here](https://github.com/Hzaatiti/meg-pipeline/tree/main/pipeline/field_trip_pipelines/matlab_functions)\n",
    "\n",
    "Each experiment run using the KIT system generates a `.con` file and two or more .mrk files."
   ],
   "id": "e19eb3b361b3c730"
  },
  {
   "metadata": {},
   "cell_type": "markdown",
   "source": [
    "Data acquisition\n",
    "----------------\n",
    "\n",
    "The used data is acquired from a single subject with 150 trials of each condition type (visual, motor, auditory).\n",
    "\n"
   ],
   "id": "a797b7027445a592"
  },
  {
   "metadata": {},
   "cell_type": "code",
   "outputs": [],
   "execution_count": null,
   "source": [
    "%% FieldTrip pipeline for audio-visual-motor experiment\n",
    "% Author: Hadi Zaatiti <hadi.zaatiti@nyu.edu>\n",
    "\n",
    "\n",
    "clear;\n",
    "\n",
    "% Reminder of stimulus types:\n",
    "\n",
    "% 1 is visual stimulus = ch224\n",
    "% 2 is auditory stimulus = ch225\n",
    "% 3 is motor button = ch226\n",
    "\n",
    "% Read the environment variable to NYU BOX\n",
    "MEG_DATA_FOLDER = getenv('MEG_DATA');\n",
    "\n",
    "\n",
    "% Define paths\n",
    "TASK_NAME = 'audio-visual-motor';\n",
    "SYSTEM = 'meg-kit';\n",
    "SUB_ID = 'sub-001';\n",
    "LASER_DEVICE = 'laser-scan';\n",
    "\n",
    "\n",
    "% Construct the directory path\n",
    "DATA_FOLDER_PATH = fullfile(MEG_DATA_FOLDER, TASK_NAME, SUB_ID, SYSTEM);\n",
    "\n",
    "% List all .con files with the prefix 'sub-001'\n",
    "filePattern = fullfile(DATA_FOLDER_PATH, [SUB_ID,'*.con']);\n",
    "conFiles = dir(filePattern);\n",
    "\n",
    "\n",
    "% Display the file names\n",
    "disp('Found .con files:');\n",
    "for k = 1:length(conFiles)\n",
    "    disp(conFiles(k).name);\n",
    "end\n",
    "\n",
    "\n",
    "filePattern_mrk = fullfile(DATA_FOLDER_PATH, '*.mrk');\n",
    "\n",
    "mrkFiles = dir(filePattern_mrk);\n",
    "\n",
    "% Construct the directory path\n",
    "DATA_FOLDER_PATH_LASER = fullfile(MEG_DATA_FOLDER, TASK_NAME, SUB_ID, LASER_DEVICE);\n",
    "\n",
    "filePattern_laser_surface = fullfile(DATA_FOLDER_PATH_LASER,  [SUB_ID,'*basic-surface.txt']);\n",
    "filePattern_laser_stylus = fullfile(DATA_FOLDER_PATH_LASER,  [SUB_ID,'*stylus-points.txt']);\n",
    "\n",
    "laser_points = dir(filePattern_laser_surface);\n",
    "laser_surf = dir(filePattern_laser_stylus);\n",
    "\n",
    "\n",
    "APPLY_FILTERS = false;\n"
   ],
   "id": "8d4a6351001a47e0"
  },
  {
   "metadata": {},
   "cell_type": "markdown",
   "source": "We will skip filtering and see the analysis results with and without.",
   "id": "33a7e8f6a29fafb9"
  },
  {
   "metadata": {},
   "cell_type": "code",
   "outputs": [],
   "execution_count": null,
   "source": [
    "%% Filtering data\n",
    "\n",
    "if APPLY_FILTERS\n",
    "    % Notch filter the data at 50 Hz\n",
    "    cfg = [];\n",
    "    cfg.bsfilter = 'yes';\n",
    "    cfg.bsfreq = [49 51]; % Notch filter range\n",
    "    combinedData = ft_preprocessing(cfg, combinedData);\n",
    "\n",
    "    % Band-pass filter the data\n",
    "    cfg = [];\n",
    "    cfg.bpfilter = 'yes';\n",
    "    cfg.bpfreq = [4 40]; % Band-pass filter range\n",
    "    cfg.bpfiltord = 4;   % Filter order\n",
    "    combinedData = ft_preprocessing(cfg, combinedData);\n",
    "    \n",
    "    disp('Filtering operations complete on combined data.');\n",
    "end"
   ],
   "id": "28a60093cc87ab12"
  },
  {
   "metadata": {},
   "cell_type": "code",
   "outputs": [],
   "execution_count": null,
   "source": [
    "%%\n",
    "\n",
    "% Initialize FieldTrip configuration\n",
    "cfg = [];\n",
    "cfg.coilaccuracy = 0;\n",
    "\n",
    "% Cell array to store preprocessed data\n",
    "dataList = {};\n",
    "\n",
    "% Loop through all .con files\n",
    "for k = 1:length(conFiles)\n",
    "    % Construct the full path for the current .con file\n",
    "    conFile = fullfile(DATA_FOLDER_PATH, conFiles(k).name);\n",
    "    \n",
    "    % Set the dataset in the configuration\n",
    "    cfg.dataset = conFile;\n",
    "    \n",
    "    % Preprocess the MEG data\n",
    "    fprintf('Processing file: %s\\n', conFiles(k).name);\n",
    "    dataList{k} = ft_preprocessing(cfg); % Store preprocessed data in the list\n",
    "end\n",
    "\n",
    "% Concatenate all preprocessed data\n",
    "fprintf('Concatenating all preprocessed data...\\n');\n",
    "combinedData = ft_appenddata([], dataList{:});\n",
    "\n",
    "% Display a message when concatenation is complete\n",
    "disp('Data concatenation complete.');"
   ],
   "id": "45a6503638690cff"
  },
  {
   "metadata": {},
   "cell_type": "code",
   "outputs": [],
   "execution_count": null,
   "source": [
    "%% Define trials and segmentation of the data\n",
    "\n",
    "\n",
    "previewTrigger = combinedData.trial{1}(225, :);\n",
    "\n",
    "threshold = (max(previewTrigger) + min(previewTrigger)) / 2;\n",
    "    \n",
    "trigger_channels = [225, 226, 227];\n",
    "\n",
    "TRIALS_DEF = cell(length(conFiles), length(trigger_channels));\n",
    "TRIALS = cell(length(conFiles), length(trigger_channels));\n",
    "\n",
    "for fileIdx = 1:length(conFiles)\n",
    "\n",
    "    for chIdx = 1:length(trigger_channels)\n",
    "        cfg = [];\n",
    "        conFile = fullfile(DATA_FOLDER_PATH, conFiles(fileIdx).name);\n",
    "        cfg.dataset  = conFile;\n",
    "        cfg.trialdef.eventvalue = 1; % placeholder for the conditions\n",
    "        cfg.trialdef.prestim    = 0.5; % 1s before stimulus onset\n",
    "        cfg.trialdef.poststim   = 1.2; % 1s after stimulus onset\n",
    "        cfg.trialfun = 'ft_trialfun_general';\n",
    "        cfg.trialdef.chanindx = trigger_channels(chIdx);\n",
    "        cfg.trialdef.threshold = threshold;\n",
    "        cfg.trialdef.eventtype = 'combined_binary_trigger'; % this will be the type of the event if combinebinary = true\n",
    "        cfg.trialdef.combinebinary = 1;\n",
    "        cfg.preproc.baselinewindow = [-0.2 0];\n",
    "        cfg.preproc.demean     = 'yes';\n",
    "    \n",
    "        % Define trials for the current channel and dataset\n",
    "        TRIALS_DEF{fileIdx, chIdx} = ft_definetrial(cfg);\n",
    "\n",
    "        % Preprocess trials for the current channel and dataset\n",
    "        TRIALS{fileIdx, chIdx} = ft_preprocessing(TRIALS_DEF{fileIdx, chIdx});\n",
    "    end\n",
    "end"
   ],
   "id": "2cb6fd730c174d7"
  },
  {
   "metadata": {},
   "cell_type": "code",
   "outputs": [],
   "execution_count": null,
   "source": [
    "%% Trials Concantenation\n",
    "\n",
    "TRIALS_STIM = cell( length(trigger_channels),1);\n",
    "\n",
    "for chIdx = 1:length(trigger_channels)\n",
    "            cfg = [];\n",
    "            TRIALS_STIM{chIdx} = ft_appenddata(cfg, TRIALS{1,chIdx}, TRIALS{2,chIdx}, TRIALS{3, chIdx});\n",
    "end\n",
    "\n",
    "\n"
   ],
   "id": "3afb0d60ae72acd3"
  },
  {
   "metadata": {},
   "cell_type": "code",
   "outputs": [],
   "execution_count": null,
   "source": [
    "%% Visual Inspection ALTL\n",
    "\n",
    "TRIALS_STIM_REJ = cell( length(trigger_channels),1);\n",
    "\n",
    "for tr = 1:length(TRIALS_STIM)\n",
    "    \n",
    "    cfg = [];\n",
    "    cfg.method='summary';\n",
    "    cfg.channel = {'AG*'};\n",
    "    TRIALS_STIM_REJ{tr} = ft_rejectvisual(cfg, TRIALS_STIM{tr});\n",
    "\n",
    "end\n",
    "\n",
    "save TRIALS_STIM_REJ TRIALS_STIM_REJ"
   ],
   "id": "87f3f10fa2e1854c"
  },
  {
   "metadata": {},
   "cell_type": "code",
   "outputs": [],
   "execution_count": null,
   "source": [
    "%% Averaging\n",
    "\n",
    "AVG_TRIALS = cell( length(trigger_channels),1);\n",
    "\n",
    "for tr = 1:length(AVG_TRIALS)\n",
    "\n",
    "    cfg = [];\n",
    "\n",
    "    AVG_TRIALS{tr} = ft_timelockanalysis(cfg, TRIALS_STIM_REJ{tr});\n",
    "\n",
    "end"
   ],
   "id": "9a818eef44ad05cb"
  },
  {
   "metadata": {},
   "cell_type": "code",
   "outputs": [],
   "execution_count": null,
   "source": [
    "%% Get KIT Sensors\n",
    "\n",
    "kit_layout = create_kit_layout(conFile);\n",
    "\n",
    "figure('Position', [100, 100, 1000, 800]); % Adjust the width and height (1000 and 800) as needed\n",
    "ft_plot_layout(kit_layout, 'box', 1);\n",
    "\n"
   ],
   "id": "f33b31e52e22d2a5"
  },
  {
   "metadata": {},
   "cell_type": "code",
   "outputs": [],
   "execution_count": null,
   "source": [
    "%% Plotting in space\n",
    "\n",
    "% for a single trial type, for each channel, average over time the trial\n",
    "% and plot the average value on the helmet\n",
    "\n",
    "% You can still see the time behavior when clicking on one sensor\n",
    "\n",
    "for tr = 1:length(AVG_TRIALS)\n",
    "\n",
    "    cfg = [];\n",
    "    cfg.xlim = [0.05 1.2];\n",
    "    cfg.colorbar = 'yes';\n",
    "    cfg.layout = kit_layout;\n",
    "    ft_topoplotER(cfg, AVG_TRIALS{tr});\n",
    "\n",
    "end"
   ],
   "id": "9255a10a4ae946ba"
  },
  {
   "metadata": {},
   "cell_type": "markdown",
   "source": [
    "Visual stimulus\n",
    "---------------\n",
    "\n",
    "Visual stimulus ERP select from the first plot sensors in the Occipital lobe and visualise the averaged ERP from the sensors\n",
    "- Observe the M100 and M170"
   ],
   "id": "f5bf9dc71d75eb41"
  },
  {
   "metadata": {},
   "cell_type": "markdown",
   "source": "![image.png](attachment:51ade515-40aa-4a10-9e7a-60aefd45f228.png)",
   "id": "1a34e54da9c99d68"
  },
  {
   "metadata": {},
   "cell_type": "markdown",
   "source": [
    "Select the M100 peak from the GUI then double click the selection to see the sensor topoplot averaged only at the selection peak time.\n",
    "Observe then that the strongest magnetic field activity is in the Occipital lobe for the M100."
   ],
   "id": "fcce36d79cbc29a"
  },
  {
   "metadata": {},
   "cell_type": "markdown",
   "source": "![image2.png](attachment:948bd08f-76d1-4200-bd05-6b74ad68870f.png)",
   "id": "71e12f93c722a113"
  },
  {
   "metadata": {},
   "cell_type": "markdown",
   "source": [
    "Auditory Stimulus\n",
    "-----------------\n",
    "\n",
    "**Right side averaged sensor ERP**"
   ],
   "id": "e78b6785c56f50d7"
  },
  {
   "metadata": {},
   "cell_type": "markdown",
   "source": "![image5.png](attachment:a9a16a78-2b16-46f9-8c72-2eedeff94545.png)",
   "id": "f2426c68b3cc171f"
  },
  {
   "metadata": {},
   "cell_type": "markdown",
   "source": "![image3.png](attachment:ebd37f1e-87f4-49b3-9cd3-d6c1f146aa3e.png)",
   "id": "99da1c0c8c7fc5e"
  },
  {
   "metadata": {},
   "cell_type": "markdown",
   "source": "**Left side averaged sensor ERP**",
   "id": "fcdce913558c6d3"
  },
  {
   "metadata": {},
   "cell_type": "markdown",
   "source": "![image6.png](attachment:19185a92-1a26-4c3f-9f2e-6c8db2bb98c5.png)",
   "id": "65fb82b9dcb02068"
  },
  {
   "metadata": {},
   "cell_type": "markdown",
   "source": "![image7.png](attachment:7d2cab22-0ec5-41f5-8592-405d85952db4.png)",
   "id": "34586d3c105153fa"
  },
  {
   "metadata": {},
   "cell_type": "markdown",
   "source": [
    "Motor Stimulus\n",
    "--------------"
   ],
   "id": "bfcd9a7f9fea1ce6"
  },
  {
   "metadata": {},
   "cell_type": "markdown",
   "source": "![image9.png](attachment:3c997de9-a14d-4cf2-946e-159cffee000d.png)",
   "id": "6aea2b6c1a1c7dbd"
  },
  {
   "metadata": {},
   "cell_type": "markdown",
   "source": "Topology at the M100 peak.",
   "id": "d65cf5603cd9a121"
  },
  {
   "metadata": {},
   "cell_type": "markdown",
   "source": "![image10.png](attachment:0c911d37-ea21-4c9b-89e4-015fad329be0.png)",
   "id": "2f929951c896dd7b"
  },
  {
   "metadata": {},
   "cell_type": "code",
   "outputs": [],
   "execution_count": null,
   "source": "",
   "id": "ff638c977eb5c747"
  }
 ],
 "metadata": {
  "kernelspec": {
   "display_name": "MATLAB Kernel",
   "language": "matlab",
   "name": "jupyter_matlab_kernel"
  },
  "language_info": {
   "file_extension": ".m",
   "mimetype": "text/x-matlab",
   "name": "matlab"
  }
 },
 "nbformat": 4,
 "nbformat_minor": 5
}
