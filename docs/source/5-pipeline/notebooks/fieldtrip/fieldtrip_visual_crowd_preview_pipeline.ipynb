{
 "cells": [
  {
   "cell_type": "raw",
   "id": "62967d2e9c4dc0e2",
   "metadata": {},
   "source": [
    "Visual Crowd Preview Pipeline: Source localization on an Atlas with Beamformer\n",
    "##############################################################################\n",
    "\n",
    "Authors: Tasneem Ezzedine (te2207@nyu.edu), Hadi Zaatiti (hz3752@nyu.edu), Osama Abdullah (oa22@nyu.edu)"
   ]
  },
  {
   "cell_type": "markdown",
   "id": "19bf7528-8f38-4ae4-9cc6-b0fad94ae530",
   "metadata": {},
   "source": [
    "Experiment description\n",
    "----------------------\n",
    "\n",
    "[Link to experiment code](https://github.com/hzaatiti-NYU/meg-pipeline/blob/5ac461e002d1db916f57384f61e262060b9e2658/experiments/psychtoolbox/visual_crowding_preview)\n",
    "\n",
    ".. include: ../../../../experiments/psychtoolbox/visual_crowding_preview/README.rst\n"
   ]
  },
  {
   "cell_type": "code",
   "execution_count": null,
   "id": "39966943-8d95-4b34-a5f7-1b57e625e3af",
   "metadata": {},
   "outputs": [],
   "source": [
    "Importing data\n",
    "--------------\n",
    "\n",
    "\n"
   ]
  },
  {
   "cell_type": "code",
   "execution_count": null,
   "id": "430b1744-334b-4d21-b8c1-bc27b3492fa8",
   "metadata": {},
   "outputs": [],
   "source": [
    "Trial definition and computing ERP in sensor space\n",
    "--------------------------------------------------\n",
    "\n"
   ]
  }
 ],
 "metadata": {
  "kernelspec": {
   "display_name": "MATLAB Kernel",
   "language": "matlab",
   "name": "jupyter_matlab_kernel"
  },
  "language_info": {
   "file_extension": ".m",
   "mimetype": "text/x-matlab",
   "name": "matlab"
  }
 },
 "nbformat": 4,
 "nbformat_minor": 5
}
