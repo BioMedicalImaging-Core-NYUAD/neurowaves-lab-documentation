{
 "cells": [
  {
   "cell_type": "markdown",
   "id": "6a6935d0-4b6a-49cc-be74-7424aca6efce",
   "metadata": {},
   "source": [
    "Visual Crowd Preview Pipeline: Source localization on an Atlas with Beamformer\n",
    "==============================================================================\n",
    "\n",
    "Authors: Tasneem Ezzedine (te2207@nyu.edu), Hadi Zaatiti (hz3752@nyu.edu), Osama Abdullah (oa22@nyu.edu)"
   ]
  },
  {
   "cell_type": "markdown",
   "id": "19bf7528-8f38-4ae4-9cc6-b0fad94ae530",
   "metadata": {},
   "source": [
    "Experiment description\n",
    "----------------------\n",
    "\n",
    "[Link to experiment code](https://github.com/hzaatiti-NYU/meg-pipeline/blob/5ac461e002d1db916f57384f61e262060b9e2658/experiments/psychtoolbox/visual_crowding_preview)\n",
    "\n",
    "Contact for this experiment:\n",
    "\n",
    "Tasnim Ezzedin te2207@nyu.edu\n",
    "\n",
    "Description of the experiment:\n",
    "\n",
    "This experiment examines the crowding and preview effects in the Arabic language, utilizing three distinct crowding values: 0, -75, and -125. Within the experiment, these values are represented as follows: 1 for -125, 2 for -75, and 3 for 0. The study employs magnetoencephalography (MEG) and eye-tracking techniques to record brain activity.\n",
    "\n",
    "In this paradigm, participants are instructed to focus on a fixation point on the screen. Words will be presented either to the left or right of the fixation point, and participants will be required to look at the presented word when cued by the fixation point turning green.\n"
   ]
  },
  {
   "cell_type": "markdown",
   "id": "a6ab8f39-066c-44ce-ada9-82452d5a2ffb",
   "metadata": {},
   "source": [
    "Importing data\n",
    "--------------\n",
    "\n",
    "\n"
   ]
  },
  {
   "cell_type": "code",
   "execution_count": null,
   "id": "ee4e59f87180330d",
   "metadata": {
    "jupyter": {
     "is_executing": true
    }
   },
   "outputs": [],
   "source": [
    "disp('test')"
   ]
  },
  {
   "cell_type": "markdown",
   "id": "78cd5e26-c60f-430a-b7d9-d84d6114ff88",
   "metadata": {},
   "source": [
    "Trial definition and computing ERP in sensor space\n",
    "--------------------------------------------------\n",
    "\n"
   ]
  },
  {
   "cell_type": "markdown",
   "id": "52c3fa6e-0784-4dd5-8552-a2dbb436525b",
   "metadata": {},
   "source": [
    "Using an Atlas headmodel for Beamformer\n",
    "---------------------------------------\n",
    "\n"
   ]
  }
 ],
 "metadata": {
  "kernelspec": {
   "display_name": "MATLAB Kernel",
   "language": "matlab",
   "name": "jupyter_matlab_kernel"
  },
  "language_info": {
   "file_extension": ".m",
   "mimetype": "text/x-matlab",
   "name": "matlab"
  }
 },
 "nbformat": 4,
 "nbformat_minor": 5
}
